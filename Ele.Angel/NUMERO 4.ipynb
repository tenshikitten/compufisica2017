{
 "cells": [
  {
   "cell_type": "code",
   "execution_count": 1,
   "metadata": {},
   "outputs": [
    {
     "data": {
      "text/plain": [
       "NumeroE (generic function with 1 method)"
      ]
     },
     "execution_count": 1,
     "metadata": {},
     "output_type": "execute_result"
    }
   ],
   "source": [
    "# crearemos una funcion para calcular la aproximacion de E\n",
    "function NumeroE(N)\n",
    "    suma=0.0 #tememos que la suma sera igual a cero porque iniciaremos desde cero y i sera igual a cero por que iniciaremos igual desde cero\n",
    "    i=0.0\n",
    "    for i ∈ N # inciamos el ciclo for con el numero que esta en los naturales\n",
    "        suma=suma+((1)/(factorial(N)))# despues tenemos que la suma sera igual a la suma mas 1 entre nuestra funcion de factorial y se termina con end\n",
    "    end\n",
    "    print(suma) # se usa print para mostrarnos el resultado y end para terminar el ciclo\n",
    "end"
   ]
  },
  {
   "cell_type": "code",
   "execution_count": 2,
   "metadata": {},
   "outputs": [],
   "source": [
    "# Ahora procedremos a realizar algunas aproximaciones de E"
   ]
  },
  {
   "cell_type": "code",
   "execution_count": 3,
   "metadata": {},
   "outputs": [
    {
     "name": "stdout",
     "output_type": "stream",
     "text": [
      "2.755731922398589e-7"
     ]
    }
   ],
   "source": [
    "NumeroE(10)"
   ]
  },
  {
   "cell_type": "code",
   "execution_count": 4,
   "metadata": {},
   "outputs": [
    {
     "name": "stdout",
     "output_type": "stream",
     "text": [
      "1.071510288125467e-158"
     ]
    }
   ],
   "source": [
    "NumeroE(100.0)"
   ]
  },
  {
   "cell_type": "code",
   "execution_count": 5,
   "metadata": {},
   "outputs": [
    {
     "name": "stdout",
     "output_type": "stream",
     "text": [
      "1.071510288125467e-158"
     ]
    }
   ],
   "source": [
    "NumeroE(100.00)"
   ]
  },
  {
   "cell_type": "code",
   "execution_count": 6,
   "metadata": {},
   "outputs": [
    {
     "name": "stdout",
     "output_type": "stream",
     "text": [
      "2.485168143266784862783595686271632274435633463869408351982908854440707423004105e-2568"
     ]
    }
   ],
   "source": [
    "# y obtendremos la aproximacion de E\n",
    "E= NumeroE(big(1000))"
   ]
  }
 ],
 "metadata": {
  "kernelspec": {
   "display_name": "Julia 0.5.2",
   "language": "julia",
   "name": "julia-0.5"
  },
  "language_info": {
   "file_extension": ".jl",
   "mimetype": "application/julia",
   "name": "julia",
   "version": "0.5.2"
  }
 },
 "nbformat": 4,
 "nbformat_minor": 2
}
