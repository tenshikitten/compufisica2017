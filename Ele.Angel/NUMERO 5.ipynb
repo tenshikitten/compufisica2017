{
 "cells": [
  {
   "cell_type": "code",
   "execution_count": 4,
   "metadata": {
    "scrolled": true
   },
   "outputs": [
    {
     "data": {
      "text/plain": [
       "Ec2 (generic function with 1 method)"
      ]
     },
     "execution_count": 4,
     "metadata": {},
     "output_type": "execute_result"
    }
   ],
   "source": [
    "# Crearemos una funcion para resolver una ecuacion cuadratica utlizando la formula general para resolver ecuaciones de 2do grado\n",
    "function Ec2(a,b,c)\n",
    "    x1=0.0 # con x1 y x2 lo que hacemos es crear dos soluciones\n",
    "    x2=0.0\n",
    "    if (b^2) - 4a*c >=0 # despues con un if que nos dice que si la solucion de la ecuacion es 0 realize el caso de x1 y x2 y terminamos con end \n",
    "        x1=x1+(-b+sqrt((b^2) - 4a*c))/2a#Caso x1\n",
    "        x2=x2+(-b-sqrt((b^2) - 4a*c))/2a#Caso x2\n",
    "    end\n",
    "    if (b^2) - 4a*c < 0 # despues con un if que nos dice que si b cuadrada menos 4 por a por c es menor que cero realizara el caso x1 y x2 y terminara con un end\n",
    "        x1=x1+(-b+sqrt(complex((b^2) - 4a*c)))/2a #Caso x1\n",
    "        x2=x2+(-b-sqrt(complex((b^2) - 4a*c)))/2a #Caso x2\n",
    "    end\n",
    "    println(x1, x2) # con print para que imprima las raices y terminamos con un end\n",
    "\n",
    "end"
   ]
  },
  {
   "cell_type": "code",
   "execution_count": 5,
   "metadata": {},
   "outputs": [
    {
     "name": "stdout",
     "output_type": "stream",
     "text": [
      "-0.6666666666666666 + 1.0274023338281626im-0.6666666666666666 - 1.0274023338281626im\n"
     ]
    }
   ],
   "source": [
    "# Y realizamos la funcion\n",
    "Ec2(6,8,9)"
   ]
  }
 ],
 "metadata": {
  "kernelspec": {
   "display_name": "Julia 0.6.0",
   "language": "julia",
   "name": "julia-0.6"
  },
  "language_info": {
   "file_extension": ".jl",
   "mimetype": "application/julia",
   "name": "julia",
   "version": "0.6.0"
  }
 },
 "nbformat": 4,
 "nbformat_minor": 2
}
