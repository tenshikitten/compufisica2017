{
 "cells": [
  {
   "cell_type": "code",
   "execution_count": 31,
   "metadata": {},
   "outputs": [
    {
     "data": {
      "text/plain": [
       "Nfact (generic function with 1 method)"
      ]
     },
     "execution_count": 31,
     "metadata": {},
     "output_type": "execute_result"
    }
   ],
   "source": [
    "# creamos una funcion para calcular el factorial que anteriormente habiamos utlizado en el inciso b del ej.1 de la primera literal que es N\n",
    "function Nfact(N) \n",
    "    if N==0   # iniciamos con un condicional if ya que si N es 0 entonces rsera 1\n",
    "        r=1\n",
    "    else  # despues con un else que r va a ser igual a el numero por el factorial del numero menos 1\n",
    "        r=N*Nfact(N-1)\n",
    "        return r  # al usar \"return\" en la función, ésta regresara la variable como un producto de lo que haga la función en este caso r y se termina con end\n",
    "    end\n",
    "end # el ciclo termina con end"
   ]
  },
  {
   "cell_type": "code",
   "execution_count": 32,
   "metadata": {},
   "outputs": [
    {
     "data": {
      "text/plain": [
       "rfact (generic function with 1 method)"
      ]
     },
     "execution_count": 32,
     "metadata": {},
     "output_type": "execute_result"
    }
   ],
   "source": [
    "# creamos una segunda funcion para calcular el factorial de la segunda literal que es r\n",
    "function rfact(r) \n",
    "    if N==0\n",
    "        r=1\n",
    "    else\n",
    "        r=N*Nfact(N-1)\n",
    "        return r\n",
    "    end\n",
    "end"
   ]
  },
  {
   "cell_type": "code",
   "execution_count": 33,
   "metadata": {},
   "outputs": [
    {
     "data": {
      "text/plain": [
       "zfact (generic function with 1 method)"
      ]
     },
     "execution_count": 33,
     "metadata": {},
     "output_type": "execute_result"
    }
   ],
   "source": [
    "# creamos una tercera funcion paara el factorial de la resta\n",
    "function zfact(z) \n",
    "    if N==0\n",
    "        r=1\n",
    "    else\n",
    "        r=N*Nfact(N-1)\n",
    "        return r\n",
    "    end\n",
    "end\n"
   ]
  },
  {
   "cell_type": "code",
   "execution_count": 34,
   "metadata": {},
   "outputs": [
    {
     "data": {
      "text/plain": [
       "7"
      ]
     },
     "execution_count": 34,
     "metadata": {},
     "output_type": "execute_result"
    }
   ],
   "source": [
    "# Le asignamos un valor a N\n",
    "N=7"
   ]
  },
  {
   "cell_type": "code",
   "execution_count": 35,
   "metadata": {},
   "outputs": [
    {
     "data": {
      "text/plain": [
       "5040"
      ]
     },
     "execution_count": 35,
     "metadata": {},
     "output_type": "execute_result"
    }
   ],
   "source": [
    "# obtenemos el factorial de N\n",
    "Nfact(N) "
   ]
  },
  {
   "cell_type": "code",
   "execution_count": 38,
   "metadata": {},
   "outputs": [],
   "source": [
    "# Le asignamos un valor a r\n",
    "r=4;"
   ]
  },
  {
   "cell_type": "code",
   "execution_count": 39,
   "metadata": {},
   "outputs": [
    {
     "data": {
      "text/plain": [
       "5040"
      ]
     },
     "execution_count": 39,
     "metadata": {},
     "output_type": "execute_result"
    }
   ],
   "source": [
    "# obtenemos el factorial de N\n",
    "rfact(r)"
   ]
  },
  {
   "cell_type": "code",
   "execution_count": 40,
   "metadata": {},
   "outputs": [
    {
     "data": {
      "text/plain": [
       "3"
      ]
     },
     "execution_count": 40,
     "metadata": {},
     "output_type": "execute_result"
    }
   ],
   "source": [
    "# en la formula de la combinatoria hay una resta N-r a la cual el resultado se lo asignaremos a la letra w para hacerlo mas practico\n",
    "z=N-r"
   ]
  },
  {
   "cell_type": "code",
   "execution_count": 41,
   "metadata": {},
   "outputs": [
    {
     "data": {
      "text/plain": [
       "5040"
      ]
     },
     "execution_count": 41,
     "metadata": {},
     "output_type": "execute_result"
    }
   ],
   "source": [
    "# tambien en la formula de la combinatoria a la resta (z) se le obtiene el numero factorial y para hacerlo mas practico a la letra w le asignamos el valor del factorial de la resta\n",
    "w=zfact(z) "
   ]
  },
  {
   "cell_type": "code",
   "execution_count": 42,
   "metadata": {},
   "outputs": [
    {
     "data": {
      "text/plain": [
       "0.041666666666666664"
      ]
     },
     "execution_count": 42,
     "metadata": {},
     "output_type": "execute_result"
    }
   ],
   "source": [
    "# por ultimo realizamos la formula de la combinatoria que sera igual a :\n",
    "# factorial de N entre el factorial de la resta de N menos r por el factorial de r\n",
    "combinatoria=Nfact(N)/(w)Nfact(r)"
   ]
  },
  {
   "cell_type": "code",
   "execution_count": 43,
   "metadata": {},
   "outputs": [
    {
     "data": {
      "text/plain": [
       "0.041666666666666664"
      ]
     },
     "execution_count": 43,
     "metadata": {},
     "output_type": "execute_result"
    }
   ],
   "source": [
    "# y obtenemos el resultado de la combinatoria \n",
    "combinatoria"
   ]
  }
 ],
 "metadata": {
  "kernelspec": {
   "display_name": "Julia 0.6.0",
   "language": "julia",
   "name": "julia-0.6"
  },
  "language_info": {
   "file_extension": ".jl",
   "mimetype": "application/julia",
   "name": "julia",
   "version": "0.6.0"
  }
 },
 "nbformat": 4,
 "nbformat_minor": 2
}
