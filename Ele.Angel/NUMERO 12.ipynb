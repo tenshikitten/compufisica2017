{
 "cells": [
  {
   "cell_type": "code",
   "execution_count": 185,
   "metadata": {},
   "outputs": [],
   "source": [
    "# A) Crearemos un programa que arroje como resultado un archivo con los datos de un movimiento rectilíneo uniforme, en un intervalo de tiempo [ti , tf]"
   ]
  },
  {
   "cell_type": "code",
   "execution_count": 237,
   "metadata": {},
   "outputs": [],
   "source": [
    "# primero definimos la velocidad \n",
    "v=300; # m/s2"
   ]
  },
  {
   "cell_type": "code",
   "execution_count": 238,
   "metadata": {},
   "outputs": [],
   "source": [
    "# Despues creamos un arreglo de tiempo\n",
    "t=collect(0.0:1.0:30.0);"
   ]
  },
  {
   "cell_type": "code",
   "execution_count": 239,
   "metadata": {},
   "outputs": [],
   "source": [
    "# creamos los puntos en los que se graficaran los resultados\n",
    "y=zeros(x);"
   ]
  },
  {
   "cell_type": "code",
   "execution_count": 319,
   "metadata": {},
   "outputs": [],
   "source": [
    "# Creamos un arreglo para la posicion inicial\n",
    "x_0=collect(0:1.0:30.0);"
   ]
  },
  {
   "cell_type": "code",
   "execution_count": 320,
   "metadata": {},
   "outputs": [],
   "source": [
    "# # creamos un arreglo para el eje x de posicion\n",
    "x=collect(0.0:1.0:30.0);"
   ]
  },
  {
   "cell_type": "code",
   "execution_count": 321,
   "metadata": {},
   "outputs": [],
   "source": [
    "# Creamos un ciclo con for\n",
    "for i ∈ eachindex(x)\n",
    "    y= x_0+(v*t)\n",
    "end\n",
    "# Donde por cada numero que este en x tendremos que y sera igual a la formula para calcular la posicion final que sera igual a la posision inicial mas la velocidad por el tiempo y se terminara el ciclo con un end"
   ]
  },
  {
   "cell_type": "code",
   "execution_count": 322,
   "metadata": {},
   "outputs": [],
   "source": [
    "# utilizamos using Plots para poder gragicar\n",
    "using Plots"
   ]
  },
  {
   "cell_type": "code",
   "execution_count": 323,
   "metadata": {},
   "outputs": [
    {
     "data": {
      "text/plain": [
       "Plots.PyPlotBackend()"
      ]
     },
     "execution_count": 323,
     "metadata": {},
     "output_type": "execute_result"
    }
   ],
   "source": [
    "# lo usamos porque vamos a graficar\n",
    "pyplot()"
   ]
  },
  {
   "cell_type": "code",
   "execution_count": 324,
   "metadata": {},
   "outputs": [
    {
     "data": {
      "text/html": [
       "<img src=\"data:image/png;base64,iVBORw0KGgoAAAANSUhEUgAAAlgAAAGQCAYAAAByNR6YAAAABHNCSVQICAgIfAhkiAAAAAlwSFlzAAAPYQAAD2EBqD+naQAAADl0RVh0U29mdHdhcmUAbWF0cGxvdGxpYiB2ZXJzaW9uIDIuMS4xLCBodHRwOi8vbWF0cGxvdGxpYi5vcmcvAOZPmwAAIABJREFUeJzs3XlYVPX+B/D3OWdgABEQUUPcF8wFwS1QgbIy07wula12UwG3rkt53fJ3E1vsVsbN0jQVl7qlFaW23u51BTdyQ80dBVnMlU1Fljnn+/uDmMPEIirLzPB+PQ/P03zmzPA9MOnbz/nOZyQhhAARERERVRm5thdAREREZG8YsIjI6rRq1QqtWrW648ePGjUKkiQhOTm5ytZUG1avXg1JkrB69eraXgoR3SYGLKI7lJycDEmSIEkS7rnnHphMpjKPO378uPm4P4eG4r9AS345OzvD19cXkyZNwoULF8p8zrKe606OoephMpnQoEEDPPnkkxUeV/waGjVqVM0sjIhqjKG2F0Bk6wwGAy5evIiffvoJQ4YMKXV/dHQ0ZLnif8s89NBDCA4OBgBcvXoVmzdvxqJFi7BhwwYcOHAAjRo1qpa1W6vNmzff1ePffvttzJo1Cz4+PlW0otuzfft2ZGVlYdiwYXf1PMOHD0dQUBC8vb2raGVEVFMYsIjuUp8+fXDo0CGsXLmyVMAymUz497//jYcffhjbt28v9zkefvhhzJo1y3xb0zT85S9/wU8//YRFixZh3rx51bZ+a9S2bdu7ery3t3ethpKNGzfCYDDgscceu6vncXd3h7u7exWtiohqEi8REt0lZ2dnPPPMM/jxxx9x6dIli/t++OEHXLx4EWPGjLmt55Rl2XzZaP/+/VW11ApFRkZCkiRs27YN0dHR8PPzg5OTE3x8fPDyyy/j2rVrZT7u+++/R79+/eDu7g5nZ2f4+/sjKiqqzEumW7duxcCBA9G0aVMYjUY0adIEISEhWLZsmcVx5e3BEkJg1apVCAkJgYeHB1xcXNC+fXuMGzcOKSkp5uMq2oO1atUqBAYGwtXVFa6urggMDCxzj9O2bdsgSRIiIyOxb98+9O/fH/Xr14e7uzuGDx9e4f6u7777DiEhIWjQoEG5x6xevRqtW7cGAKxZs8biMvG2bdvMx5S3ByspKQnh4eFo0aIFjEYjvL29MWrUKJw7d67UsZIk4YEHHkB6ejqee+45eHl5oX79+njsscdw9uxZAEWXsocNGwZPT0/Ur18fTz75JC5evGjxPCUvaR49ehSPPfYYPDw84OrqikceeaTc1+q5c+cQFhYGHx8fODo6olmzZggLC7P4nRHZGwYsoiowZswYmEwmfPbZZxb1lStXwtPT864uFRkMNdtojoqKwuTJk9GrVy9MnToV3t7e+OCDD/DII4+gsLCw1LFDhgzB4cOH8dxzz+Gll17CzZs3MW3aNIwYMQIlp8D8+OOPeOihhxAfH48BAwZg2rRpGDJkCPLz80v93MqiaRqeeuopjBkzBklJSXj22WcxadIkdO/eHV999RUOHDhwy+eYPHkyxowZg/T0dISFhSEsLAzp6ekYPXo0pkyZUuZj9u7di9DQUDg6OmLcuHHo2bMnNmzYgIcffhh5eXmljj948CDOnTuHoUOHVriWgIAA8/f09/fH3LlzzV+32jsXHx+Pbt26Yc2aNejRowemTJmCkJAQfP7557jvvvvMoamkzMxMBAcHIykpCS+++CIeeOAB/PTTT+jfvz9+++039OnTB9evX8eYMWPQs2dPfPPNN3j22WfL/P5nz55F3759cfPmTUyYMAFDhgzB1q1bERoaivj4eItjT506hV69emHlypXo0aMHpk2bhm7dumHlypXo2bMnTp06VeG5EtksQUR3JCkpSQAQAwYMEEII0aVLF9G5c2fz/b///rswGAxi0qRJQgghjEajaNmypcVzrFq1SgAQb7/9tkVdVVUxcOBAAUC89957pb43gFLPdSfHlDR37lwBQDg6OopDhw6Z65qmieeee04AEAsWLDDXExMThcFgEI0bNxYpKSnmel5enggODhYAxKeffmquP/744wKASEhIKPW9r1y5YnG7ZcuWpdb+0UcfCQDioYceErm5uRb35ebmiqtXr5pvv/jiiwKASEpKMte2b98uAIiOHTuKrKwscz0jI0P4+voKACI2NtZc37p1qwAgAIh169ZZfL8XXnhBABBr164tdS7FP8eS37s8xa+hF198scz7i18fq1atMtcKCgpEq1atRP369cWBAwcsjo+LixOKoojBgwdb1IvP4+WXX7aoT5gwQQAQHh4e4oMPPjDXNU0TgwYNEgDE/v37S60XgJg1a5bFc/3nP/8RAISfn59FvV+/fgKA+OSTTyzqixcvFgDEgw8+WPYPh8jGsYNFVEXGjBmDo0ePmv8Fv2bNGphMpkpdHty0aRMiIyMRGRmJyZMno0uXLvj555/Rp08fTJgwobqXbuGvf/0runbtar4tSRLmz58PRVEsLlV98cUXMJlMmDZtGpo3b26uG41GvPPOOwBQ5qUtZ2fnUrWGDRvecl0ff/wxFEXBkiVLSj2Hs7MzPD09K3z8mjVrABRdCi25r6lBgwaYO3duuesNDQ3F008/bVEr/p3u3bu31PEbN26Ev79/tb2D84cffkBycjKmT5+Obt26WdwXHByMoUOH4qeffkJOTo7Ffa6urnjzzTctasUdqoYNG2Ly5MnmuiRJeOaZZwAAhw4dKrUGDw8PzJkzx6I2YMAAPPTQQzhy5Ij5UmFKSgq2bt2KTp06ISIiwuL48ePH495778WWLVuQmpp6Oz8CIpvATe5EVWTkyJGYOXMmVq5cicDAQKxatQrdunVDQEDALR+7efPmUu+c69u3LzZv3gyj0Vgl60tISMCGDRssaq1atSo1IiAkJKTUY1u2bInmzZvj6NGjKCgogKOjIw4ePAgAeOCBB0od37t3bzg5OSEhIcFce+aZZ/Dtt98iKCgIzz33HB566CGEhITAy8vrlmu/fv06jh8/jnbt2qF9+/aVONvSKlpvv379AMBivcV69OhRqtasWTMAQFZWlkU9JSUFCQkJeO211+5ojZWxZ88eAMDJkycRGRlZ6v4LFy5A0zScOnUKPXv2NNfbt28PFxcXi2OL3wjQtWtXSJJU5n3nz58v9T26desGV1fXUvWQkBBs3rwZBw8eRI8ePcw/z/vvv7/U88uyjNDQUJw4cQIJCQkWIZ3IHjBgEVWRRo0a4S9/+QvWrVuHESNG4OTJk/joo48q9djisQKapiE5ORmRkZH47LPPEBERgU8//bTU8ZIkQdO0cp+v+L6S4yESEhJKvRvx/vvvLxWwmjRpUuZzNmnSBMnJybh27RoaNmxo7pCUdbwkSWjSpAnS09PNtREjRmDDhg2IiorC0qVLsXjxYkiShH79+uH999+vMIhmZ2cDwF2NXcjJyYEsy2WOvGjSpAkkSSrV9QEANze3UrXifXGqqlrUiwPsrfZf3Y2MjAwAwOeff17hcTdu3LC4XdF5VHTfn/fdARW/RgD991XRawTQQ1xZP3ciW8dLhERVKCwsDDk5ORg1ahScnJzw/PPP39bjZVlGmzZtsGbNGoSGhuKzzz4r1XUCit6+n5GRYbGJvKQrV66Yjys2atQoCCEsvorfrVbSn985VrIuSRLq168PQP9LuazjhRC4ePFiqb+4hw4diu3btyMzMxM///wzwsPDsW3bNjz66KOlukF/Pl8AFoHtdrm5uUHTNFy+fLnUfZcuXYIQosygcTs2btyIFi1aoHv37nf1PBUpXuP3339f6vdZ8uv++++vtjVU9BoB9N9XRa8RAOZBunf7cyeyRgxYRFVowIAB8PHxQXp6OoYNG1bh2/QrIkkSFi5cCEmSMHv27FLdKj8/P9y4cQNHjhwp8/G7d+8GAIu9VJUVFxdXqnbu3Dmkpqaic+fOcHR0BADz/p+yQlp8fDzy8vLK7UrVr18fjz76KJYtW4ZRo0bh4sWLpd59VpKrqys6deqEpKQknD59+rbP6VbrLa5V5nJueTIzMxEbG1vmsNnyKIoCoHQnrCKBgYEA9N9xbTh48CCuX79eql782in+WRf/PGNjY0v9Y0AIgdjYWIvjiOwJAxZRFVIUBRs2bMD69evx9ttv39VzBQQEYNiwYThx4kSpy0EvvvgiAGDGjBnIz8+3uC8rK8u8afuvf/3rbX/fTz/9FIcPHzbfFkLg1VdfhaqqFpcTn3vuORgMBkRFRVns0ykoKMDMmTMBwOL42NjYMoNE8ewwJyenCtf10ksvQVVVTJw4ETdv3rS4Ly8vz3zprDzFP7N58+ZZXJLKzs42XzotPuZO/PTTTzCZTLd1ebBBgwaQJOm2NnkPHToULVq0QFRUlDmglFRYWIgdO3ZU+vnuRFZWFt566y2L2i+//ILNmzejS5cu5n1rLVq0QL9+/XD06FGsXLnS4vhly5bh+PHjePDBB7n/iuwS92ARVbGePXtabC6+G3PnzsWGDRvw+uuv49lnnzXvixk9ejR+/PFHrF+/Hr6+vhg0aBAaNmyICxcuYOPGjbhy5QqmTJmChx566La/54ABA9C7d28888wzaNSoETZv3ox9+/YhKCgIkyZNMh/Xtm1bvPPOO5g2bRq6du2Kp556CvXq1cP333+PkydPYujQoRg5cqT5+MmTJ+P8+fMIDg5Gq1atIEkSduzYgV9//RVBQUHmjwoqz4QJE7B9+3Z89dVXaN++PYYMGQI3NzekpKTgl19+QXR0dIXzxkJDQzFp0iR89NFH6NKlC5544gkIIfDNN98gLS0NkydPRmho6G3/vIpt2LABHh4et3VpztXVFb169UJsbCxeeOEFtG/fHrIs44UXXkDLli3LfIzRaERMTAwGDhyI+++/Hw8++CD8/PwgSRLOnTuHuLg4NGzYECdOnLjjc7mVkJAQLFmyBPHx8QgKCkJycjK+/vprODs7Y8WKFRbHLlmyBMHBwYiIiMD333+PTp064ejRo/juu+/QqFEjLFmypNrWSVSranouBJG9+PMcrFu5nTlYJT3xxBMCgIiOjraoq6oqVqxYIUJDQ4WHh4cwGAzCy8tLDBgwQHzzzTe3fT7F85u2bt0qli9fLjp37iyMRqPw9vYWU6ZMETk5OWU+buPGjeL+++8X9evXF0ajUfj5+Yn3339fFBYWWhy3bt068dRTT4m2bdsKFxcX4e7uLvz9/cU777wjrl27ZnFsWXOwhCiaz7RixQoRFBQk6tWrJ1xcXET79u3F+PHjLWZxlTUHq9jKlStFr169hIuLi3BxcRG9evUSK1euLHVc8RysuXPnlrrvz/Or8vLyhKurq3juuefK/BlV5OTJk2LQoEHCw8NDSJJk/h0IUfYcrGJpaWliypQpon379sJoNAo3NzfRsWNHER4eLjZv3mxxLABx//333/I8Sirr/Ese/9tvv4lBgwYJNzc3Ua9ePfHwww+Lffv2lXmOycnJYvTo0cLb21sYDAbh7e0tRo8eLZKTkyv7YyKyOZIQ5eySJaI6JTIyEvPmzcPWrVvLHGVA5fv5558xaNAgfPnll3jqqadqeznVJjk5Ga1bt8aLL75Y5swwItJxDxYR0V3auHEjHB0d8eijj9b2UojISjBgERHdpaVLlyI/P5/jBojIjAGLiIiIqIpxDxYRERFRFWMHi4iIiKiKMWARERERVTGLgJWXl4dhw4bB19cX/v7+6N+/PxITEwEUfTxDQEAAAgIC0KVLF0iSZJ72PGrUKPj4+Jjvnz59uvk5K7qvJCEEcnJyyv1sNSIiIiJbYbEHKy8vD1u2bMHAgQMhSRIWLVqEmJiYUp/dFRMTg3nz5pk/B23UqFEICAjA1KlTS32Diu4rKScnB+7u7sjOzuY7cchuZWdnW3wAM5E94uuc7M3ZHIFxO1RsSi+KTCLC4ZaPsehgOTk5YdCgQZAkCQDMH4HwZ9HR0QgLC6uCJRPVLbfzob5Etoqvc7IXJk3g/cMqusSYzOGqsircg7Vw4cJSH1yampqK7du3W3zGWPGxXbt2xeDBg5GQkFDp+/4sJyfH4uvPH2RLREREVN0OXxXovVHF3+M13Pzj3wwtXIGfHlUq9fhyP+x5/vz5SExMxObNmy3qq1evxuDBg+Hl5WWuvfXWW/D29oYsy1i/fj0GDhyI06dPw9XVtcL7yvLnT1WfMWMGZs6cWamTIbJ2mZmZtb0EomrH1znZsjwVWHDcER+dcoRJFF3RkyAQ3rYQczrno74DAHje8nnKnIO1YMECrFu3Dps2bYKHh4e5LoRA27ZtsWTJEgwYMKDcJ+3QoQO++OIL9OjRo9L3Fe/BSk1NtdiDZTQaYTQab3kiRLYgIyMDnp63/h+TyJbxdU62Ku53DRFxKk5m67WOHkB0qILeTW5v8EKpDlZUVBTWrl1bKlwBwJYtW2AymdC/f3+LelpaGpo1awYA2LNnD65evYp27drd8r6yuLm5lbnJ/fr16zh//jw0TbutE7Q2siyjadOm5XbwiIiIqGblFAjM+lXDkuN6xnCQgVcDZMwOkGFUpNt+TouAlZaWhmnTpqFNmzbo168fgKIOUnx8PICize2jR4+GLFumuFGjRuHixYtQFAXOzs74+uuvze8gqei+ytqzZw9eeeUVFBQU3PYJWiNHR0dERUUhKCiotpdCRERUp/1wTsOEnSrSbui1wMYSVoQo6OJ5+8GqmNV8VE55YxquX7+ORx55BD179kRERAQcHG791khrVlhYiOXLl2Pfvn3473//y05WHcNLJ1QX8HVOtuDSTYEpu1WsO6PHIBcDML+XjL91kqHIdx6ugAo2uVuL8+fPo6CgABEREfDz86vt5VSJiIgI7Nq1C+fPn4evr29tL4eIiKjOEELgs9MCL+9RkVFiUMEjPhI+CVHQqv7dBatiVh+wivdc2XrnqqTic7H1/WRERES2JPmawLg4Ff8tMdPK0wj8K0jBC+0l8xzQqsDPIqxCycnJeOCBB+Du7o6AgIDaXg4REREBUDWBhb8VDQwtGa6ebiPh+AgD/uorV2m4Amygg2VL3Nzc8OabbyI7Oxtz5syp7eUQERHVeb9lCITHqYi/pAcrn3rAkr4K/tKy+vpM7GDdgQULFmDs2LHm21lZWebBq8HBwahXr15tLY2IiIgA5KsCc/er6L7eZBGuJnSUcexJQ7WGK8AGO1g915tw4Wb1vfHxHmcJ+4ZX/GMJDw+Hr68v3n33XXh4eGDVqlUYOnQo3zVDRERkBXZd1BAeq+J4ll7zdQdWhCgI8a6Z3pLNBawLNwXSb9z6uDt36/Dm4eGBJ598EitXrsTLL7+MJUuW4Msvv6zORREREdEtXCsQeHWvhsXHNPPf5gYJmOEv4x/dZDgZqnafVUVsLmDd4yyhMiHo7p7/1iZPnowhQ4agY8eOaNSoEbp161ZtayIiIqKK/ZyqYfwOFSnX9VoPLwnRoQr8G9ZcsCpmcwHrVpfvasq9996LNm3aYOzYsXj33XdrezlERER10pU8gam7VXyeqDdfnBXgjZ4ypnSRYbjLgaF3ipvc70JERARMJhOefPJJAEBubi6aNWuGESNG4NixY2jWrBlmz55dy6skIiKyP0IIfJGooePXJotw9WBTCUeeNGBaV6XWwhVggx0sa7J161ZMnDjRPDjUxcUFaWlptbwqIiIi+5ZyXWDCDhU/perBysMReD9IwWjfqh0YeqcYsO7A+fPn8eCDD8LT0xO//PJLbS+HiIioTtCEwMfHNMzeq+F6oV5/srWEj/oouMel9oNVMQasO9C0aVOcOHGitpdBRERUZxzPLBoYuuui3rXydgE+7qtgWCvr2/HEgEVERERWq0AVeOeQhjcPaigo8RG+EfdKePc+BR5G6+lalWT1AUuWi1Kpqqq1vJKqU3wuxedGREREpf16SUNYrIrfMvVaOzdgeYiCB5pa99+h1r06FA31BGBXm8eLz6VBgwa1vBIiIiLrc6NQ4JXdKnp/p4crRQJm+ss4/ITB6sMVYAMdLC8vL3Tv3h2LFy9GkyZN4OTkVNtLuit5eXlYtGgRevTogYYNG9b2coiIiKzKf9M0jItTkVxiYGi3hsCKUAO6e1nn5cCySEKI6huLfhtycnLg7u6O7OxsuLm5WdyXnp6OZ599Frm5ubW0uqrl4uKCtWvXwsfHp7aXQjUsIyODn1lJdo+vc7oTGXkCr+xRsea0HkucFCCyu4xpXWtvYOidsvoOFgD4+Phg06ZNSElJgclkqu3l3BWDwYAWLVrA0dGxtpdCRERU64QQ+PqswKTdKi7d1OsPeEtYFqKgvbttBatiNhGwAMDR0RHt2rWr7WUQERFRFUm7LjBxp4rvU/Sulbsj8F6ggrAOEmQrGBh6p2wmYBEREZF90ITAsuMaZv6qIafEwNBhLSUs7qugaT3bDVbFGLCIiIioxpzMEhgbpyL2gt61auIMLO6r4PFW1vExN1WBAYuIiIiqXaEm8N4hDa8f1JBfYrTlGF8JC4IUNLDSgaF3igGLiIiIqtW+yxrCY1UcytBrbeoDy0IUPORj/TOt7gQDFhEREVWLXJPA3P0aoo5o0P64IihLwCt+Mub1kOFisK+uVUkMWERERFTltqRrGLtDxZkcvdbVE4gOVdCzkX12rUpiwCIiIqIqk5kvMD1eRfRJfRO7UQFe6yZjur8MBxsbGHqnGLCIiIioSnyTpOFvO1VcKDEwNLiJhBWhCjp41I1gVYwBi4iIiO7K+RsCf9ulYn2y3rWq7wC8c5+McR1lmx4YeqcYsIiIiOiOCCEQfVLg7/Eqsgv0+uAWEj7uq6C5a90LVsUYsIiIiOi2JWYXDQzd+rvetWrkBHzUR8FTbexnYOidYsAiIiKiSjNpAlFHNMzdryGvxMDQv7aXEBWkoKFT3Q5WxRiwiIiIqFISrgqExZpw4Ipea+kKfBKsYEBz+x+9cDsYsIiIiKhCN00Crx/Q8N5hDeofVwQlAFO6yHijpwxXB3at/owBi4iIiMq1/XcNEbEqTpcYGNq5QdHA0MDG7FqVhwGLiIiISskuEJgRr2HZCc1cc5CB/+smY5a/DEeFXauKMGARERGRhY3JGibuVHE+V6/1blw0MLRTAwarymDAIiIiIgDAhVyBSbtUxCTpoxfqGYC3e8mY2EmGUkc+5qYqMGARERHVcUIIrD4lMC1eRWa+Xh/YXMLSYAUt6vDA0DvFgEVERFSHnc0RGLdDxaZ0vWvV0Ags7KPgubYcGHqnGLCIiIjqIFUTWPibhn/s15Br0uvPt5PwryAFjZwZrO4GAxYREVEdc/iqQHicir2X9a5V83rA0mAFg1pw9EJVYMAiIiKqI/JMAm8laPhnggZTiYGhL3WSMb+XjPqO7FpVFQYsIiKiOmDHBQ0RcSpOZOm1jh7AilAFfZqwa1XVGLCIiIjsWE6BwOy9Gj4+pg8MNUjA7AAZc7rJMHJgaLVgwCIiIrJTP6ZoGL9DRdoNvXZfo6KBoX6eDFbViQGLiIjIzly+KTBlt4q1Z/RN7C4G4K2eMiZ15sDQmsCARUREZCeEEPg8UWDqbhVXSwwM7e8j4ZNgBa3dGKxqCgMWERGRHTh3TWD8DhX/SdO7Vp5G4F9BCl5oz4GhNY0Bi4iIyIapmsDiYxpe3avhRomBoU+3kbCwt4ImLgxWtYEBi4iIyEYdyxQIi1Wx55LetfKpB3zcV8GQlhy9UJssfvp5eXkYNmwYfH194e/vj/79+yMxMREAEBgYiICAAAQEBKBLly6QJAmHDx8GAIwaNQo+Pj7m+6dPn25+ztzcXDz77LNo164dfH19ERMTU4OnR0REZH8KVIF5+1UEfGuyCFfjO8o4+qSB4coKlOpgjR07FgMHDoQkSVi0aBHCw8Oxbds2xMfHm4+JiYnBvHnz0LVrV3Nt+vTpmDp1aqlvsGDBAhiNRiQmJiIpKQmBgYHo168fGjZsWE2nREREZL/2XNQQHqfiaKZe83UHlocoCPVmsLIWFr8JJycnDBo0yLwRLigoCMnJyaUeFB0djbCwsEp9gy+//BLjx48HALRu3RoPPPAA1q9ff5fLJiIiqluuFwpM2aWiz3d6uFL+GBh66HEDw5WVqfC3sXDhQgwdOtSilpqaiu3bt2PkyJGlju3atSsGDx6MhIQEcz0lJQUtW7Y0327VqhVSUlLK/Z45OTkWX/n5+eUeS0REVBf8kqqhS4wJHx7VUHxBsIeXhP3DDZjfS4GTgRvZrU25m9znz5+PxMREbN682aK+evVqDB48GF5eXubaW2+9BW9vb8iyjPXr12PgwIE4ffo0XF1db3tBzZs3t7g9Y8YMzJw587afh8gaZWZm3vogIhvH13nVuZov4f8OG/FVioO55qwIzOqUj/HtCmGQgIyMWlxgHeXp6XnLY8oMWAsWLMC3336LTZs2wcXFxVwXQmDVqlVYsmSJxfE+Pj7m/x4+fDhmzZqFkydPokePHmjRogXOnTsHb29vAEBycjIeeeSRcheUmpoKNzc3822j0Qij0XjLEyGyFZX5H5PI1vF1fneEEFh3pmga++U8vf5gUwnLQgxo6+ZYe4ujSil1iTAqKgpr167F//73P3h4eFjct2XLFphMJvTv39+inpaWZv7vPXv24OrVq2jXrh0AYMSIEVi6dCkAICkpCdu2bcOwYcPKXZCbm5vFF8MVERHVJanXBYb8V8VzW/Vw5eEIRIcq2DRIQVtOY7cJFh2stLQ0TJs2DW3atEG/fv0AFHWQit9BGB0djdGjR0OWLXPZqFGjcPHiRSiKAmdnZ3z99ddwd3cHUPTuwjFjxqBt27ZQFAWLFi2yuLxIREREgCYElh7XMOtXDdcK9foTrSV81EeBNweG2hRJCCFufVj1y8nJgbu7O7Kzsy0uERLZk4yMDF46IbvH1/ntO5ElEB6rYudF/a9kbxdgcR8Fw1vz3YG2iJPciYiIakmBKvDuIQ1vHNRQoOn1iHslvHufAg8ju1a2igGLiIioFuy9rCEsVsWREu8CbOcGLAtR0K8pu1a2jgGLiIioBt0oFPjHPg0Lj2rQ/rgiqEjAND8ZkT1kOHOmlV1gwCIiIqohm9I1jI1TkXRNrwU0BKJKRW8QAAAgAElEQVRDDejuxWBlTxiwiIiIqllGnsC0eBWrT+mb2J0UILK7jFe6ynCQGa7sDQMWERFRNRFCICZJ4G+7VFy6qdfv95awLFiBrweDlb1iwCIiIqoG6TcEXtqpYuM5vWvl5gC8F6gg/F4JssRwZc8YsIiIiKqQJgSWn9AwI15DTomBoUNbSljcV4FPPQaruoABi4iIqIqcyhIYu0PF9t/1rlVj56KBoU+0liCxa1VnMGARERHdpUJN4P3DGiIPaMhX9fpoXwkLAhV4OjFY1TUMWERERHfhwBWBsFgTEq7qtdb1iwaGPuzDgaF1FQMWERHRHcg1CUTu1xB1RIP6xxVBWQKmdpHxeg8Z9RzYtarLGLCIiIhu09bzGiLiVJzJ0Wt+nkB0qIJejdi1IgYsIiKiSsvKF5ger2LFSX0Tu6MMvNZdxvSuMhwVdq2oCAMWERFRJaxP0vDSLhW/5+q14CYSlocquJcDQ+lPGLCIiIgq8HuuwN92qvg2We9auToA79wnY3xHmQNDqUwMWERERGUQQmDlSYG/x6vIKtDrjzWXsCRYQXNXBisqHwMWERHRn5zJERgbp2LLeb1r1cgJ+LCPgqfbcGAo3RoDFhER0R9MmsC/jmiYu1/DzRIDQ19oJyGqtwIvDgylSmLAIiIiApBwVSA8VsX+K3rXqoUr8Emwgkebc/QC3R4GLCIiqtPyTAKvH9Tw7iF9YKgEYFJnGW/1kuHKgaF0BxiwiIiozor9vWhg6KlsvdbJA1gRqqB3E3at6M4xYBERUZ2TXSAwM17DJyc0c81BBuYEyJgVIMPIgaF0lxiwiIioTvnunIaJO1Wk39BrQY0lrAhR0NmTwYqqBgMWERHVCRdzBSbvVvHVWX0Tez0DML+XjJc6yVBkhiuqOgxYRERk14QQWHNa4JU9KjLz9fqjzSQsDVbQsj6DFVU9BiwiIrJbSTkC43ao+F+63rVqaAQ+6K3g+XYcGErVhwGLiIjsjqoJfHhUw//t05Br0uvPtpXwQW8FjZ0ZrKh6MWAREZFdOZJRNDD018t616pZPWBpsILHWnD0AtUMBiwiIrIL+arAmwc1/DNBg0nPVnipk4z5vWS4ObJrRTWHAYuIiGzezgsawuNUnMjSa/d6ACtCFPS9h10rqnkMWEREZLOuFQjM3qvh42MaiptWBgmYFSBjToAMJwO7VlQ7GLCIiMgm/ZiiYfwOFWklBob2alQ0MLRrQwYrql0MWEREZFMu3xSYulvFF2f0jVYuBuDNnjImd+bAULIODFhERGQThBD4PLEoXF0tMTD0YR8Jy4IVtHZjsCLrwYBFRERW79w1gfE7VPwnTe9aNTACUUEKXmzPgaFkfRiwiIjIaqmawOJjGl7dq+FGiYGhT7WR8GFvBU1cGKzIOjFgERGRVTqWKRAWq2LPJb1r1dQFWBKsYEhLjl4g68aARUREVqVAFXg7QcNbCRoKNb0+7l4Z7wTKcOfAULIBDFhERGQ19lwsGhh6NFOv+boDy0MUhHqza0W2gwGLiIhq3fVCgTl7NXx0VB8YqkjADH8Zr3XjwFCyPQxYRERUq35J1TBuh4pz1/Vady8gOtSAAA4MJRvFgEVERLXiap7Ay7tVfJaob2J3UoDXe8h42U+GgQNDyYYxYBERUY0SQuDLswKTd6m4nKfX+3lLWBaioJ07gxXZPgYsIiKqMWnXBSbsVPFDit61cncE3g9UMKYDB4aS/WDAIiKiaqcJgU+Oa5j5q4ZrhXr98VYSFvVV4M2BoWRnGLCIiKhancgSiIhVseOi3rW6xxlY3FfB4605eoHsEwMWERFVi0JN4N1DGl4/oKGgxMDQ8A4S3g1U0MDIrhXZLwYsIiKqcvsuawiLVXE4Q6+1qV80MPRBH3atyP4xYBERUZXJNQm8dtiIJYkqtD+uCMoSMM1PRmQPGS4cGEp1hMU/I/Ly8jBs2DD4+vrC398f/fv3R2JiIgAgMDAQAQEBCAgIQJcuXSBJEg4fPmzxZMePH4eLiwumTp1qrkVGRqJRo0bmxz7//PM1cFpERFTTNqdr8IsxYfFpR3O48vcEfh1qwLuBCsMV1SmlOlhjx47FwIEDIUkSFi1ahPDwcGzbtg3x8fHmY2JiYjBv3jx07drVXCssLMTYsWMxfPjwUt/k+eefxwcffFBNp0BERLUpM19g2h4Vq07pm9iNCjC3u4y/d5XhwIGhVAdZdLCcnJwwaNAg8xySoKAgJCcnl3pQdHQ0wsLCLGqvv/46RowYgfbt21ffaomIyGoIIRBzVkPHr00W4aq3lwmHHjdgdoDCcEV1VoU7DRcuXIihQ4da1FJTU7F9+3aMHDnSXIuPj8fu3bsxadKkMp/n66+/hr+/Px588EFs3bq1wgXl5ORYfOXn51f2XIiIqIacvyHw+P9UjNis4uLNopqbA7A0WMZ3oTfRwYPBiuq2cje5z58/H4mJidi8ebNFffXq1Rg8eDC8vLwAALm5uZg4cSJiYmLKnMA7fvx4zJkzBw4ODti5cyeGDx+OvXv3omXLlmV+3+bNm1vcnjFjBmbOnHnbJ0ZkjTIzM2t7CUR3RRPAZ0kOmHvEiGsm/c/8R70L8V63fDR1FsjMzAQbV2TPPD09b3lMmQFrwYIF+Pbbb7Fp0ya4uLiY60IIrFq1CkuWLDHXzpw5g5SUFPTr1w8AkJWVBU3TkJmZiTVr1uCee+4xH9u3b19069YN+/btKzdgpaamws3NzXzbaDTCaDTe8kSIbEVl/sckskanswXGxqnY9rt+ObCxM/BRbwUj2hggSfrfF3ydU11XKmBFRUVh7dq12LRpEzw8PCzu27JlC0wmE/r372+u+fn54fLly+bbkZGRyMrKMm9qT0tLQ7NmzQAAp0+fRkJCAvz8/MpdkJubm0XAIiKi2mXSBN4/rCHygIY8Va+P8pWwIFBBQye2q4j+zCJgpaWlYdq0aWjTpo25I2U0Gs3vIIyOjsbo0aMhy5UfEjdnzhzs378fBoMBiqJg8eLF8PX1rcJTICKi6nLwikBYrAkHr+q1Vq7AshAF/ZtxYChReSQhhLj1YdUvJycH7u7uyM7OZgeL7FZGRgYvnZBNuGkSiNyv4f0jGtQSA0OndJbxRk8Z9RzK71rxdU7ESe5ERPQn285riIhTkZij17o0AKJDFdzXmF0rospgwCIiIgBAVr7AjF9VLD+hX9hwlIF/dJMxw1+Go8K9VkSVxYBFRETYkKxh4k4Vv+fqtb5NJCwPUdCxAYMV0e1iwCIiqsMu5ApM2qUiJknvWrk6AP/sJWNCJxlyGfMNiejWGLCIiOogIQRWnSr6DMGsAr3+WHMJS4IVNHdlsCK6GwxYRER1zNmcooGhm8/rXSsvJ+DD3gqeaSuV+akcRHR7GLCIiOoIkyaw8DcN/9in4WaJgaEj20n4V28FXhwYSlRlGLCIiOqAQ1cFwmNV7Luid61auAKfBCt4tDlHLxBVNQYsIiI7lmcSeOOghncPaTD9ka0kAJM6y3izp4z6juxaEVUHBiwiIjsV93vRwNCT2XqtkwewIlRB7ybsWhFVJwYsIiI7k1MgMPNXDUuPa+aagwy8GiBjdoAMIweGElU7BiwiIjvy/TkNE3aqSL+h1wIbS4gOUdDZk8GKqKYwYBER2YFLNwUm71Lx5Vl9E3s9AzC/l4yXOslQZIYroprEgEVEZMOEEPjstMDLe1Rk5Ov1Ac0kLA1W0Ko+gxVRbWDAIiKyUcnXBMbFqfhvut618jQCH/RWMLIdB4YS1SYGLCIiG6NqAh8d1TBnn4Zck15/pq2Ehb0VNHZmsCKqbQxYREQ25LcMgfA4FfGX9K6VTz1gaV8Fg1ty9AKRtWDAIiKyAfmqwPwEDW8naCjUpy9gQkcZ/7xPhhsHhhJZFQYsIiIrt+uihvBYFcez9FoH96KBocH3sGtFZI0YsIiIrNS1AoFX92pYfExD8QVBgwTM9Jfxf91kOBnYtSKyVgxYRERW6OdUDeN3qEi5rtd6eklYEarAvyGDFZG1Y8AiIrIiV/IEpu5W8XmivondWQHe7CljchcZBg4MJbIJDFhERFZACIG1ZwSm7FZxJU+vP9RUwrIQBW3cGKyIbAkDFhFRLUu5LjBhh4qfUvWulYcjEBWkYJQvB4YS2SIGLCKiWqIJgY+PaZi9V8P1Qr0+orWED/souMeFwYrIVjFgERHVguOZRQNDd13Uu1ZNXYCP+yoY2oqjF4hsHQMWEVENKlAF3jmk4c2DGgpKDAwde6+Md+6T4WFk14rIHjBgERHVkF8vaQiPU3EkQ6+1dwOWhyq435tdKyJ7woBFRFTNbhQK/GOfhoVHNWh/XBFUJGB6VxmvdZfhzIGhRHaHAYuIqBr9N03DuDgVySUGhnb3AlaEGNDNi8GKyF4xYBERVYOMPIFX9qhYc1rfxO6kAPN6yHjFjwNDiewdAxYRURUSQuDrswKTdqu4dFOvP+AtYXmIgnbuDFZEdQEDFhFRFUm7LjBxp4rvU/SulbsjsCBQQVgHDgwlqksYsIiI7pImBJYd1zDjVw3XSgwMHd5KwqI+CprWY7AiqmsYsIiI7sLJLIGxcSpiL+hdq3ucgUV9FTzRmqMXiOoqBiwiojtQqAm8d0jD6wc15Kt6PayDhPcCFTTgwFCiOo0Bi4joNu27rCE8VsWhEgND29QHlocoeNCHXSsiYsAiIqq0XJPA3P0aoo7oA0NlCXjFT8a8HjJcODCUiP7AgEVEVAmb0zWMjVNx9ppe8/cEokMN6NGIwYqILDFgERFVIDNf4O97VKw8pW9iNyrA3O4y/t5VhgMHhhJRGRiwiIjK8U2Shr/tVHGhxMDQkHuKBoZ28GCwIqLyMWAREf3J+RsCf9ulYn2y3rWq7wC8e5+MsR1lyBwYSkS3wIBFRPQHIQRWnBSYHq8iu0CvD2kp4eO+Cnw4MJSIKokBi4gIQGK2QEScim2/612rxs7AR70VjGjDj7khotvDgEVEdZpJE4g6omHufg15JQaGvthewvtBCho6MVgR0e1jwCKiOivhqkBYrAkHrui1Vq7AJyEKHmnGgaFEdOcYsIiozrlpEnj9gIb3DmtQSwwMndJZxhs9ZdRzYNeKiO4OAxYR1Snbf9cQEavidI5e69IAiA5VcF9jdq2IqGowYBFRnZBdIDAjXsOyE5q55igD/9dNxkx/GY4Ku1ZEVHUYsIjI7m1M1jBxp4rzuXqtTxMJK0IUdGzAYEVEVY8Bi4js1oVcgUm7VMQk6aMXXB2Af/aSMaETB4YSUfWx2HCQl5eHYcOGwdfXF/7+/ujfvz8SExMBAIGBgQgICEBAQAC6dOkCSZJw+PBhiyc7fvw4XFxcMHXqVHNN0zRMmjQJbdu2Rbt27bBo0aIaOC0iqsuEEFh9SkOnGJNFuBrUXMLRJw14qbPCcEVE1apUB2vs2LEYOHAgJEnCokWLEB4ejm3btiE+Pt58TExMDObNm4euXbuaa4WFhRg7diyGDx9u8Xz//ve/cezYMZw6dQrZ2dno1q0b+vXrh86dO1fjaRFRXXU2R2DcDhWb0vVg5eUELOyt4Nm2HBhKRDXDooPl5OSEQYMGmf8ACgoKQnJycqkHRUdHIywszKL2+uuvY8SIEWjfvr1F/csvv0RERAQURYGnpyeefvpprF27topPg4jqOlUTiDqswu8bk0W4er6dhOMjDHiuncxwRUQ1psL3JC9cuBBDhw61qKWmpmL79u0YOXKkuRYfH4/du3dj0qRJpZ4jJSUFLVu2NN9u1aoVUlJSyv2eOTk5Fl/5+fmVPhkiqpsOXxXo/Z2KafEack1FtRauwE+PKvh3PwO8OI2diGpYuZvc58+fj8TERGzevNmivnr1agwePBheXl4AgNzcXEycOBExMTFV8q/D5s2bW9yeMWMGZs6cedfPS2QNMjMza3sJdiVPBd4/4YgPTzrCJIr+/JEgEN62EHM656O+A5CRUcuLrIP4Oid75+npectjygxYCxYswLfffotNmzbBxcXFXBdCYNWqVViyZIm5dubMGaSkpKBfv34AgKysLGiahszMTKxZswYtWrTAuXPn0Lt3bwBAcnIyWrRoUe6CUlNT4ebmZr5tNBphNBpveSJEtqIy/2PSre24oCEiTsWJLL3W0QNYEWpAnyaOAOrV2tqIr3OiUgErKioKa9euxaZNm+Dh4WFx35YtW2AymdC/f39zzc/PD5cvXzbfjoyMRFZWFj744AMAwIgRI7B8+XKMGDEC2dnZ+PLLL/HDDz+UuyA3NzeLgEVEVFJOgcDsvRo+PqYPDHWQgdkBMl4NkGHkwFAisgIWASstLQ3Tpk1DmzZtzB0po9FofgdhdHQ0Ro8eDVmu/MdJvPDCC9i7dy/at28PSZLwyiuvwM/PrwpPgYjqih/OaZiwU0XaDb0W2LhoYGgXTwYrIrIekhBC3Pqw6peTkwN3d3dkZ2ezg0V2KyMjg5dO7sClmwJTdqtYd0b/48rFALzVU8akzjIUmeHKmvB1TsRJ7kRkxYQQ+HeiwNTdKjJKvKH4ER8Jn4QoaFWfwYqIrBMDFhFZpeRrAuN3qPglTe9aeRqBfwUpeKE9B4YSkXVjwCIiq6JqAouOaZizV8MNk15/uo2Ehb0VNHFhsCIi68eARURW42iGQHicij2X9K6VTz1gSV8Ff2lZ+TfXEBHVNgYsIqp1+arA2wka5idoKNSnL2B8Rxn/vE+GuyO7VkRkWxiwiKhW7b6oITxWxbESA0N93YHlIQpCvdm1IiLbxIBFRLXieqHAq3s1LDqqofiCoEECZvjL+Ec3GU4Gdq2IyHYxYBFRjftPqoZxO1SkXNdrPbwkRIcq8G/IYEVEto8Bi4hqzJU8gZd3q/h3or6J3VkBXu8pY2oXGQYODCUiO8GARUTVTgiBdWcEJu9WcSVPrz/YVMKyEAVt3RisiMi+MGARUbVKvS4wYYeKH1P1rpWHI/B+kILRvhwYSkT2iQGLiKqFJgSWHNMwa6+G64V6/YnWEj7qo8CbA0OJyI4xYBFRlTuRJRAeq2LnRb1r5e0CLO6jYHhrjl4gIvvHgEVEVaZAFXj3kIY3DmooKDEwNOJeCe/ep8DDyK4VEdUNDFhEVCX2XtYQFqviSIZea+cGLAtR0K8pu1ZEVLcwYBHRXblRKPDafg0f/KZB++OKoCIBf+8qY253Gc4cGEpEdRADFhHdsU3pGsbGqUi6pte6NQRWhBrQ3YvBiojqLgYsIrptGXkC0+JVrD6lb2J3UoDI7jJe6SrDgQNDiaiOY8AiokoTQiAmSeBvu1RcuqnXH/AuGhja3p3BiogIYMAiokpKvyHw0k4VG8/pXSs3B2BBkIKwDhJkDgwlIjJjwCKiCmlCYPkJDTPiNeSUGBg6rKWExX0VNK3HYEVE9GcMWERUrlNZAhFxKmIv6F2rJs7Aoj4KnmjNj7khIioPAxYRlVKoCbx/WEPkAQ35ql4f4yvhvUAFnk4MVkREFWHAIiIL+y8LhMeZkHBVr7WpXzQw9CEfDgwlIqoMBiwiAgDkmgQi92t4/4g+MFSWgJe7yJjXQ0Y9B3atiIgqiwGLiLAlXcPYHSrO5Oi1rp7AilAFvRqxa0VEdLsYsIjqsKx8gb/Hq4g+qW9id5SB17rLmOHPgaFERHeKAYuojvo2ScNLO1VcKDEwNLiJhOWhCu71YLAiIrobDFhEdczvuQJ/26ni22S9a1XfAXjnPhnjOsocGEpEVAUYsIjqCCEEok8WXRLMLtDrg1tI+LivguauDFZERFWFAYuoDkjMFhgbp2Lr73rXqpET8GEfBU+34cBQIqKqxoBFZMdMmsC/jmh4bb+GvBIDQ//aXkJUkIKGHBhKRFQtGLCI7FTCVYGwWBMOXNFrLV2BT4IVDGjO0QtERNWJAYvIztw0Cbx+QMN7hzWof1wRlABM7iLjzZ4yXDkwlIio2jFgEdmR2N81hMeqOF1iYGjnBsCKEAVBTdi1IiKqKQxYRHYgu0BgZryGT05o5pqDDMwJkDE7QIajwq4VEVFNYsAisnEbkzVM3KnifK5eC2osYUWIgs6eDFZERLWBAYvIRl3MFZi0S8XXSfrohXoG4O1eMiZ2kqHwY26IiGoNAxaRjRFCYM1pgVf2qMjM1+uPNpOwNFhBy/oMVkREtY0Bi8iGJOUIjNuh4n/peteqoRH4oLeC59txYCgRkbVgwCKyAaom8OFRDf+3T0OuSa8/21bCwt4KGjkzWBERWRMGLCIrdyRDICxWxd7LeteqeT1gSbCCx1pw9AIRkTViwCKyUvmqwJsHNfwzQYOpxMDQiZ1kvN1LRn1Hdq2IiKwVAxaRFdp5QUN4nIoTWXrtXo+igaF972HXiojI2jFgEVmRawUCs/dq+PiYhuILggYJmB0g49UAGU4Gdq2IiGwBAxaRlfgxRcP4HSrSbui1Xo0kRIcq8OPAUCIim8KARVTLLt8UmLpbxRdn9E3sLgbgzZ4yJnfmwFAiIlvEgEVUS4QQ+DyxKFxdLTEwtL+PhE+CFbR2Y7AiIrJVDFhEteDcNYEJO1X8nKp3rRoYgX8FKfhrew4MJSKydQxYRDVIFcBHv6mYvVfDjRIDQ59qI+HD3gqauDBYERHZAwYsohpyLFNg1DYX7M3QzLWmLkUDQ4e05OgFIiJ7YvGnel5eHoYNGwZfX1/4+/ujf//+SExMBAAEBgYiICAAAQEB6NKlCyRJwuHDhwEAc+bMgZ+fn/n+devWmZ9z1KhR8PHxMd83ffr0Gjw9otpXoArM268i4FsT9mYo5vq4e2UcG2FguCIiskOSEMK8CSQvLw9btmzBwIEDIUkSFi1ahJiYGGzbts3iQTExMZg3bx6OHDkCAMjKyoKHhwcAID09HR07dsTZs2fh5eWFUaNGISAgAFOnTq1wITk5OXB3d0d2djbc3Nyq+DSJaseei0UDQ49m6jVfd2B5iIJQbwYrsk8ZGRnw9PSs7WUQ1SqLP+GdnJwwaNAg8wbboKAgJCcnl3pQdHQ0wsLCzLeLwxUAXL9+HUIIaJpW6nFEdcX1wqJ3B/b5Tg9XigRM7ZCPhMcNDFdERHauwj/lFy5ciKFDh1rUUlNTsX37dowcOdKi/uGHH6JDhw7o3r07li1bhsaNG1s8T9euXTF48GAkJCRUuKCcnByLr/z8/AqPJ7I2v6Rq6BJjwsLf9Gns3b2AfcMN+EeXAjhzGjsRkd2zuERY0vz58/H9999j8+bNcHFxMdffeOMNHDlyBF999VWZT3jo0CGMHDkS27ZtQ8OGDZGeng5vb2/Isoz169dj4sSJOH36NFxdXS0eV3yJ8M9mzJiBmTNn3s05EtWIjHxgzmEnfJXiYK45yQKzOuVjQvtCGGQgMzMTDRo0qMVVElU/vs7J3lXmEniZAWvBggVYt24dNm3aZHH5TwiBtm3bYsmSJRgwYEC5T/roo48iIiICTzzxRKn7OnTogC+++AI9evSwqBcHrNTUVIs9WEajEUaj8ZYnQlRbhBD48qzA5F0qLufp9X7eEpaFKGjnrnesuDeF6gK+zonKGNMQFRWFtWvXlgpXALBlyxaYTCb079/fon7s2DF06tQJAHDmzBkcPHjQfDstLQ3NmjUDAOzZswdXr15Fu3btyl2Qm5sbN7mTzUi9LjBxp4ofUvR/p7g7Au8HKhjTgQNDiYjqKouAlZaWhmnTpqFNmzbo168fgKIOUnx8PICize2jR4+GLFtu3ZoxYwaSkpLg4OAAg8GARYsWoWPHjgCKxjRcvHgRiqLA2dkZX3/9dZmXAolsiSYElh7XMOtXDdcK9frjrSQs6qvAmwNDiYjqtHL3YNU0jmkgW3EiSyAiVsWOi/r/Ovc4A4v7Kni8dcXvDuSlE6oL+Don4iR3okor1ATePaTh9QMaCkpMIQnvIOG9QAUeRnatiIioCAMWUSXsvawhLFbFkQy91tYNWBas4EEfzrQiIiJLDFhEFbhRKPDafg0f/KZB++OKoCIB0/xkzO0hw4UzrYiIqAwMWETl2JSuYWyciqRrei2gIRAdakB3LwYrIiIqHwMW0Z9k5gtM26Ni1Sl9E7tRASK7y5jWVYaDzHBFREQVY8Ai+oMQAt8kCfxtl4qLN/V66D0Sloco8PVgsCIiosphwCICkH5D4KWdKjae07tWbg7Au4EyIu6VIXNgKBER3QYGLKrTNCGw4oTA9HgVOSUGhg5pKeHjvgp86jFYERHR7WPAojrrdLZARJyK7b/rXavGzsCiPgqebM2PuSEiojvHgEV1TqEm8P5hDZEHNOSren2Ur4T3AxV4OjFYERHR3WHAojrlwBWB8FgTDl7Va61cgWUhCvo348BQIiKqGgxYVCfcNAlE7tfw/hEN6h9XBGUJmNpFxus9ZNRzYNeKiIiqDgMW2b1t5zVExKlIzNFrfp7AihAF9zVm14qIiKoeAxbZrax8gRm/qlh+Qt/E7igD/+gmY4a/DEeFXSsiIqoeDFhklzYka5i4U8XvuXqtb5OigaEdGzBYERFR9WLAIrtyIbdoEvs3SXrXytUB+GcvGRM6cWAoERHVDAYssgtCCKw6VfQZglkFen1QcwlLghW0cGWwIiKimsOARTbvTI7A2DgVW87rXSsvJ+DD3gqeacuBoUREVPMYsMhmmTSBD37T8No+DTdLDAwd2U7Cv3or8OLAUCIiqiUMWGSTDl0VCI9Vse+K3rVq4Qp8Eqzg0eYcvUBERLWLAYtsSp5J4I2DGt49pMH0R7aSAEzqLOPNnjLqO7JrRUREtY8Bi2xG3O8awuNUnMrWa508gBWhCno3YdeKiIisBwMWWb2cAoGZv2pYelwz1xxk4NUAGbMDZBg5MJSIiKwMAxZZte/PaZiwU0X6Db0W1FjCihAFnT0ZrIiIyDoxYJFVunRTYPIuFV+e1Tex1zMA83vJeKmTDEVmuCIiIuvFgEVWRQiBT08LvLJHRUa+Xh/QTMInwQpa1mewIiIi68eARQBAKroAABEMSURBVFYj+ZrAuDgV/03Xu1YNjcAHvRU8344DQ4mIyHYwYFGtUzWBj45qmLNPQ65Jrz/bVsIHvRU0dmawIiIi28KARbXqtwyB8DgV8Zf0rlWzesDSYAWPteDoBSIisk0MWFQr8lWB+Qka3k7QUKhPX8BLnWTM7yXDjQNDiYjIhjFgUY3bdVFDeKyK41l67V4PYEWIgr73sGtFRES2jwGLasy1AoFX92pYfExD8QVBgwTMCpAxJ0CGk4FdKyIisg8MWFQjfkrRMH6HitQSA0N7NSoaGNq1IYMVERHZFwYsqlaXbwpM3a3iizP6JnZnBXirl4zJnTkwlIiI7BMDFlULIQS+OCMwZZeKqyUGhj7sUzQwtI0bgxUREdkvBiyqcueuCUzYqeLnVL1r1cAIRAUpeLE9B4YSEZH9Y8CiKqMJgcVHNczeq+FGiYGhI1pL+KiPgiYuDFZERFQ3/H979x9VdZ3ncfx1v18QJQEVNQlRVKTRBSFT8ceguZOc6rRHt3LOdrZfpmV1GmemH7pNP8ymLIt1tCitdHWzXWtS85xZt7NahlIZ6gyipuNIgIA/shRFE9D7/X72D4ov5Kio6L1cno9zPHLfcK+fq5/zPS/f3w9vCFhoFjsqjSatd7ShwcDQqyKlN0bYGpvI6AUAQOtCwMJFOekYvVTo6oUCVycbDAyd/DNLszIsxTAwFADQChGwcMHyD7qauN7RV5VerW+09PZIW6Pi6FoBAFovAhbO2/FTRk9tdvXqdm9gqO2THh9g6ZmBltoxMBQA0MoRsHBeVle4uj/P0Z7jXm1gZ2nhyDClMzAUAABJBCw00aEao0e+dPTObu8Qe1tbeu5aS79NtRTGwFAAAOoRsHBWxhj9sdjoV184+rbGq4+O8+mtTFtJMQQrAAB+ioCFM6o4bvTQ547+VOZ1rWLaSNkZtiZezcBQAADOhICF07jG6M2drqZtdHXslFe/JdGnnBG24hgYCgDAWRGw0MiuI0b35TnKO+B1rbq1k14fYeuWXoxeAACgKQhYkCSdco1eKXT1XIGrWserT7zap1cybHWMoGsFAEBTEbCgzd+6mrTeUeFhr9Y7Sno709Y/xtO1AgDgfBGwWrETfqNnNrv6w3ZX7g93BC2f9EiqpRnXWopkYCgAABekUXuipqZG48aNU3JystLS0jRmzBgVFRVJkjIyMpSenq709HSlpKTI5/Np69atkqQnn3xSqamp9Z9/77336l/zxIkTuv3225WUlKTk5GQtW7bsMr49nMkne12lLvPr37d54Sqtk7RxbJheybAJVwAAXASfMab+NHNNTY3Wrl2rG2+8UT6fTzk5OVq2bJlyc3MbPWnZsmWaMWOGtm3bJkk6cuSIOnToIEnau3ev+vXrp+LiYnXu3FnPPfeciouLtXjxYpWUlCgjI0M7d+5UbGxso9esqqpSTEyMjh49qujo6Ev8tluvylqjx7509B9/8w6xR9jS9IGWHhtgKZyBoZfU4cOH1alTp0AvA7ik2OfATzpYbdu21U033VQ/32jo0KEqLS097UkLFy7UxIkT6x//GK4k6fjx4zLGyHVdSdL777+vBx54QJLUq1cvXXfddfrwww+b/Y3g3JaXuOr3gb9RuMrs5lPhLWF6It0mXAEA0EzOegZr7ty5Gjt2bKNaeXm51q1bpyVLljSqv/rqq3r99ddVUVGhBQsWqGvXrpKksrIy9ezZs/7rEhMTVVZWdsY/s6qqqtHjiIgIRURENO3d4O/a973Rw184+rDUC1ZR4dLLQyzd38+SxcBQAACa1RkD1syZM1VUVKRPPvmkUX3x4sW6+eab1blz50b1KVOmaMqUKSosLNQdd9yhrKys024DNkVCQkKjx1OnTtW0adPO+3UgGSMtKQ3X9G0Rqjrlhagb4vx6Ob1G8ZFGRyoDuMBWqLKSv3CEPvY5Ql1TboH/3YCVnZ2tFStW6OOPP1ZkZGR93RijRYsWad68eWd8wbS0NMXHxys3N1e33nqrevTooT179iguLk6SVFpaqqysrDM+v7y8vNEZLDpYF6boaN3A0Nz9XteqazvptWG2xvcOk8/XLoCra904m4LWgH2O1u60IUezZ8/W0qVLtWbNmkZnqyRp7dq18vv9GjNmTKP6jh076j/++uuvVVBQoP79+0uSxo8fr/nz50uSSkpKlJubq3Hjxp1xQdHR0Y1+Ea7Oj981mrXFUepyf6NwdXdfn3bcFqZf9rH4GYIAAFxijTpYFRUVevTRR9W7d2+NHj1aUl0HKT8/X1Ld4fYJEybIshrnsqlTp6qkpETh4eEKCwtTTk6O+vXrJ0l6/PHHde+996pPnz6ybVs5OTmn3V5E8yj4zmjier8KDnm1xPbSm5m2srozMBQAgMul0ZiGQGJMw4Wr9hvN+Iur7K2unB/+NX2SfpNi6feDLF0RTscqWPDt62gN2OcAk9xbvNx9ru7Lc1TU4JsvUzpKC0bayuhK1woAgEAgYLVQR2qNpm509PZfvQZkG0t66hpL09IstbHpWgEAECgErBZoZamrhz53tP+EVxt+pU9vZ9rq35FgBQBAoBGwWpADJ4x+9YWjZSVe16p9uPTSYEsP9mdgKAAAwYKA1QIYY7T4b0aP5juqrPXqNyX4NO/ntnq0J1gBABBMCFhBrrjK6P48R5/s87pWndtKc4fZur2Pj5lWAAAEIQJWkPK7RnO3u3p6s6tqx6v/a5JPc4bZ6tyWYAUAQLAiYAWhrYeMJq53tPk7r2uVcEXdwNAbExi9AABAsCNgBZEav9HvC1y9XOjK32Bg6MP/YOmFQZai2tC1AgCgJSBgBYm8/XUDQ3cd9Wr9OkgLR9oadiVdKwAAWhICVoBVnTT6t42u5u1062vhlvS7dEtPpFuKYGAoAAAtDgErgP5nj6sHP3dU8b1Xy+jq04JMWymdCFYAALRUBKwAOFht9OsNjt772jvEHhkmzRxs6eH+lmyLcAUAQEtGwLqMjDFastvot186OtxgYGhWvE9vZtpKjCJYAQAQCghYl0npMaPJeY5W7/W6Vp0ipDnDbN2RxMBQAABCCQHrEnNco5wdrp7c5Op7v1f/lz4+zR1mq2s7ghUAAKGGgHUJbT9sNCnPUf5Br2vV/Qpp3ghbN/dk9AIAAKGKgHUJ1DpGM7e4enGLq1Pe9AU92M/SS0MsRTMwFACAkEbAamZffONq0npHO494tatjpAUjbf28G10rAABaAwJWMzl20uh3m1y9vsPVjzcEw3zStDRLT11jqW0YXSsAAFoLAlYz+Kjc1QOfOSo77tUGdfZpwUhbabEEKwAAWhsC1kX4trpuptV/FXmH2NvZ0vODLE1JsRTGwFAAAFolAtYFMMbov782+s0GR9/VePVfXOXTW5m2ekcTrAAAaM0IWOep7LjRg585+t9yr2vVoY00e6ite5IZGAoAAAhYTeYaozd2uHpik6vjp7z6+F4+vTrcVrdIghUAAKhDwGqCHZVGk9Y72tBgYOhVkdIbI2yNTWT0AgAAaIyAdRYnHaOXCl29UODqZIOBoff/zNKsIZY6RNC1AgAApyNgnUH+wbqBodsrvVpSdN3A0FFxdK0AAMCZEbB+4vtTRk9tdjV3uzcw1PZJjw2wNH2gpXYMDAUAAOdAwGpgdYWryXmOShsMDL0mVlo4MkzXdCZYAQCApiFgSTpUY/Tol47+c7d3iL2tLc241tIjqQwMBQAA56dVByxjjP5YbDRlg6OD1V79uri6gaF9YwhWAADg/LXagFVx3Oihzx39qczrWsW0kV7JsDXpagaGAgCAC9fqApZrjN7a6WrqRlfHGgwM/edEn3KG27rqCoIVAAC4OK0qYO06YnRfnqO8A17Xqls7KWeErVt7MXoBAAA0j1YRsE65Rq8UunquwFWt49XvTfYpe6itjgwMBQAAzSjkA9bmb+sGhhYe9mq9o6S3Mm39Ip6uFQAAaH4hG7BO+I2m/9nV7G2u3B/uCFo+6ZFUSzOutRTJwFAAAHCJhGTAWrvX1X15joqPebUBnaSFI20N6kLXCgAAXFohFbAqa40ez3e0cJd3iD3ClqYPtPTYAEvhDAwFAACXQcgErOUlrh7+3NGBBgNDM7v59Hamras7EKwAAMDl0+ID1r7vjR7+wtGHpV7XKipcmjXE0uR+liwGhgIAgMusxQYsY4wW7Kq7JXj0pFf/px4+vTHCVvf2BCsAABAYLTJgFR2tGxiau9/rWnVpK7023NYve/NjbgAAQGC1qIDld41mb3M1/c+uahoMDL2rr0+zh9qKbUuwAgAAgddiAlbBd0YT1/tVcMirJbaX3sy0ldWd0QsAACB4BH3AqvYbzfiLq+ytrpwf7gj6JP06xdLvB1lqH07XCgAABJegaf3U1tY2+l2S1u13lbbcr1mFXrhK6ShtGGvrD8NswhValNraWs2aNavRHgdCDfscoa62tlbPPvvsOfe4zxhjzvoVl0lFRYUSEhJUXl6uqK7xmprv6q2/uvWfb2NJT11jaVqapTY2wQotT1VVlWJiYnT06FFFR0cHejnAJcE+R6hr6h4PuluE/7ff0jPr/Np3wqsNv7JuYGj/jgQrAAAQ/IIuYE3aECG1q/u4fbj04mBLD/VnYCgAAGg5giZg1d+prKn7Cc3Xx/s0Z5ithPY+HT92licCLURVVVWj34FQxD5HqPtxb5/rhFXQnMEqLi5Wnz59Ar0MAACAczp48KC6dOlyxs8HTcByXVf79u1TVFQUk9gBAEBQO1deCZqABQAAECqCZg4WAABAqCBgAQAANLOgCFi7d+/W8OHDlZycrMGDB+urr74K9JKAizZlyhQlJibK5/Npy5Yt9XX2O0JFTU2Nxo0bp+TkZKWlpWnMmDEqKiqSVHcA+IYbblDfvn2VkpKi9evXB3i1wIXJysrSgAEDlJ6erszMTBUUFEhqwrXcBIHRo0ebRYsWGWOM+eCDD8ygQYMCuyCgGaxbt86Ul5ebnj17moKCgvo6+x2horq62qxatcq4rmuMMea1114zo0aNMsYYM2HCBDN9+nRjjDEbN2408fHx5uTJkwFaKXDhKisr6z9esWKFGTBggDHm3NfygB9yP3jwoJKSknT48GGFhYXJGKO4uDh99tlnSkpKCuTSgGaRmJiolStXKj09nf2OkLZ582bddtttKi0tVfv27VVUVKRu3bpJkoYMGaKZM2fq+uuvD/AqgQu3ePFizZkzR6tXrz7ntTzgtwjLy8sVFxensLC6mac+n089evRQWVlZgFcGND/2O0LZ3LlzNXbsWB06dEinTp2qD1dS3X802Odoqe666y4lJCTo6aef1pIlS5p0LQ94wAIAtHwzZ85UUVGRXnzxxUAvBWh277zzjsrLy/X8889r2rRpTXpOwANWQkKC9u/fL7/fL6lu9HxZWZl69OgR4JUBzY/9jlCUnZ2tFStW6KOPPlJkZKRiY2MVFhamAwcO1H9NaWkp+xwt3t13361PP/1U3bt3P+e1POABq2vXrho4cKDeffddSdLy5cvVvXt3zqMgJLHfEWpmz56tpUuXas2aNerQoUN9ffz48Zo/f74kadOmTdq7d69GjRoVqGUCF+TIkSPat29f/eOVK1cqNja2SdfygB9yl6Rdu3bpnnvu0aFDhxQdHa1FixYpNTU10MsCLsrkyZO1atUqHThwQLGxsYqKilJRURH7HSGjoqJCCQkJ6t27t6KioiRJERERys/P1zfffKM777xTJSUlatOmjXJycjR69OgArxg4P3v27NH48eNVXV0ty7LUpUsXZWdnKz09/ZzX8qAIWAAAAKEk4LcIAQAAQg0BCwAAoJkRsAAAAJrZ/wOI0DAKMbKkQgAAAABJRU5ErkJggg==\" />"
      ]
     },
     "execution_count": 324,
     "metadata": {},
     "output_type": "execute_result"
    }
   ],
   "source": [
    "# usamos plot porque es como vamos graficar\n",
    "plot(x,y,w=2)\n",
    "title!(\"MRU-posicion/ tiempo\")\n",
    "# usamos title! ya con este le asignaremos un nombre a la grafica"
   ]
  },
  {
   "cell_type": "code",
   "execution_count": 325,
   "metadata": {},
   "outputs": [],
   "source": [
    "# le asignamos a datos el valor de hcat que nos dara los datos de xy\n",
    "datos=hcat(x,y);"
   ]
  },
  {
   "cell_type": "code",
   "execution_count": 326,
   "metadata": {},
   "outputs": [],
   "source": [
    "# writedlm lo usamos para obtengamos los datos para graficar\n",
    "writedlm(\"grafica.csv\" ,datos, '|')"
   ]
  },
  {
   "cell_type": "code",
   "execution_count": 327,
   "metadata": {},
   "outputs": [
    {
     "name": "stdout",
     "output_type": "stream",
     "text": [
      "0|2725.220680549955\n",
      "1|2726.220680549955\n",
      "2|2727.220680549955\n",
      "3|2728.220680549955\n",
      "4|2729.220680549955\n",
      "5|2730.220680549955\n",
      "6|2731.220680549955\n",
      "7|2732.220680549955\n",
      "8|2733.220680549955\n",
      "9|2734.220680549955\n",
      "10|2735.220680549955\n",
      "11|2736.220680549955\n",
      "12|2737.220680549955\n",
      "13|2738.220680549955\n",
      "14|2739.220680549955\n",
      "15|2740.220680549955\n",
      "16|2741.220680549955\n",
      "17|2742.220680549955\n",
      "18|2743.220680549955\n",
      "19|2744.220680549955\n",
      "20|2745.220680549955\n",
      "21|2746.220680549955\n",
      "22|2747.220680549955\n",
      "23|2748.220680549955\n",
      "24|2749.220680549955\n",
      "25|2750.220680549955\n",
      "26|2751.220680549955\n",
      "27|2752.220680549955\n",
      "28|2753.220680549955\n",
      "29|2754.220680549955\n",
      "30|2755.220680549955\n"
     ]
    }
   ],
   "source": [
    "# usamos ;cat para que nos muestre los datos para graficar\n",
    ";cat grafica.csv"
   ]
  },
  {
   "cell_type": "code",
   "execution_count": 368,
   "metadata": {},
   "outputs": [],
   "source": [
    "# B) Escribe un programa que arroje como resultado un archivo con los datos de un movimiento uniformemente acelerado (o caída libre), en un intervalo de tiempo [ti , tf]"
   ]
  },
  {
   "cell_type": "code",
   "execution_count": 2,
   "metadata": {},
   "outputs": [
    {
     "data": {
      "text/plain": [
       "prodInt (generic function with 1 method)"
      ]
     },
     "execution_count": 2,
     "metadata": {},
     "output_type": "execute_result"
    }
   ],
   "source": [
    "# Utlizamos la funcion de producto del NUMERO 8 punto para poder multiplicar dos arreglos de tiempo y asi obtener el tiempo al cuadrado\n",
    "function prodInt(t1,t2)\n",
    "    if(length(t1)==length(t2))\n",
    "        p=0.0\n",
    "        for i ∈ 1:length(t1)\n",
    "            p=p+(t1[i]*t2[i])\n",
    "        end\n",
    "        return p \n",
    "        end \n",
    "end"
   ]
  },
  {
   "cell_type": "code",
   "execution_count": 9,
   "metadata": {},
   "outputs": [],
   "source": [
    "# creamos dos arreglos de tiempo para poder multipliarlos \n",
    "t1=collect(0.0:1.0:60.0);\n",
    "t2=collect(0.0:1.0:60.0);"
   ]
  },
  {
   "cell_type": "code",
   "execution_count": 4,
   "metadata": {},
   "outputs": [],
   "source": [
    "# Tendremos que nuestro tiempo3 sera igual a el producto de t1 y t2 y asi obtener el tiempo cuadrado\n",
    "t3= prodInt(t1,t2);"
   ]
  },
  {
   "cell_type": "code",
   "execution_count": 5,
   "metadata": {},
   "outputs": [],
   "source": [
    "# Le asignamos el calor de la fgravedad a g\n",
    "g=9.8; # m/s2"
   ]
  },
  {
   "cell_type": "code",
   "execution_count": 6,
   "metadata": {},
   "outputs": [],
   "source": [
    "# Damos el valor de velocidad inicial y de velocidad final\n",
    "v_0=25.5; # m/s2\n",
    "v_f=40.5; # m/s2"
   ]
  },
  {
   "cell_type": "code",
   "execution_count": 10,
   "metadata": {},
   "outputs": [],
   "source": [
    "# Le asignamos a x rl valor de la altura que es igual a la velocidad inicial por el arreglo de tiempo mas un medio de la gravedad por tiempo al cuadrado \n",
    "x=v_0*t1+1/2g*t3;\n",
    "y= v_f-v_0/2;\n",
    "# Le asignamos a y el valor de la velocidad final menos la velocidad inicial entre dos"
   ]
  },
  {
   "cell_type": "code",
   "execution_count": 11,
   "metadata": {},
   "outputs": [],
   "source": [
    "# Le asignamos a x el valor del arreglo de tiempo  \n",
    "x=collect(0.0:1.0:60.0);\n",
    "y=collect(0.0:1.0:40.0);\n",
    "# Le asignamos a y el valor del arreglo de velocidad "
   ]
  },
  {
   "cell_type": "code",
   "execution_count": 12,
   "metadata": {},
   "outputs": [],
   "source": [
    "# creamos los puntos en los que se graficaran los resultado\n",
    "y=zeros(x);"
   ]
  },
  {
   "cell_type": "code",
   "execution_count": 13,
   "metadata": {},
   "outputs": [],
   "source": [
    "# Creamos un ciclo for\n",
    "for i ∈ eachindex(x)\n",
    "    y=v_0*t1+1/2g*t3\n",
    "end\n",
    "# Donde por cada numero en x trendremos y sera igual a la formula para calcular la altura como se habia visto la formula anteriormente y se terminara el ciclo con un end"
   ]
  },
  {
   "cell_type": "code",
   "execution_count": 14,
   "metadata": {},
   "outputs": [
    {
     "name": "stderr",
     "output_type": "stream",
     "text": [
      "\u001b[1m\u001b[36mINFO: \u001b[39m\u001b[22m\u001b[36mInitializing package repository /mnt/juliabox/.julia/v0.6\n",
      "\u001b[39m\u001b[1m\u001b[36mINFO: \u001b[39m\u001b[22m\u001b[36mCloning METADATA from https://github.com/JuliaLang/METADATA.jl\n",
      "\u001b[39m"
     ]
    }
   ],
   "source": [
    "# utilizamos using Plots para poder gragicar\n",
    "using Plots"
   ]
  },
  {
   "cell_type": "code",
   "execution_count": 15,
   "metadata": {},
   "outputs": [
    {
     "data": {
      "text/plain": [
       "Plots.PyPlotBackend()"
      ]
     },
     "execution_count": 15,
     "metadata": {},
     "output_type": "execute_result"
    }
   ],
   "source": [
    "# lo usamos porque vamos a graficar\n",
    "pyplot()"
   ]
  },
  {
   "cell_type": "code",
   "execution_count": 17,
   "metadata": {},
   "outputs": [
    {
     "data": {
      "text/html": [
       "<img src=\"data:image/png;base64,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\" />"
      ]
     },
     "execution_count": 17,
     "metadata": {},
     "output_type": "execute_result"
    }
   ],
   "source": [
    "# usamos plot porque es como vamos graficar\n",
    "plot(x,y,w=2)\n",
    "title!(\"caida libre- altura/tiempo \")\n",
    "# usamos title! ya con este le asignaremos un nombre a la grafica"
   ]
  },
  {
   "cell_type": "code",
   "execution_count": 18,
   "metadata": {},
   "outputs": [],
   "source": [
    "# le asignamos a datos el valor de hcat que nos dara los datos de xy\n",
    "datos=hcat(x,y);"
   ]
  },
  {
   "cell_type": "code",
   "execution_count": 19,
   "metadata": {},
   "outputs": [],
   "source": [
    "# writedlm lo usamos para obtengamos los datos para graficar \n",
    "writedlm(\"grafica.csv\" ,datos, '|')"
   ]
  },
  {
   "cell_type": "code",
   "execution_count": 20,
   "metadata": {},
   "outputs": [
    {
     "name": "stdout",
     "output_type": "stream",
     "text": [
      "0|3765.8163265306116\n",
      "1|3791.3163265306116\n",
      "2|3816.8163265306116\n",
      "3|3842.3163265306116\n",
      "4|3867.8163265306116\n",
      "5|3893.3163265306116\n",
      "6|3918.8163265306116\n",
      "7|3944.3163265306116\n",
      "8|3969.8163265306116\n",
      "9|3995.3163265306116\n",
      "10|4020.8163265306116\n",
      "11|4046.3163265306116\n",
      "12|4071.8163265306116\n",
      "13|4097.316326530612\n",
      "14|4122.816326530612\n",
      "15|4148.316326530612\n",
      "16|4173.816326530612\n",
      "17|4199.316326530612\n",
      "18|4224.816326530612\n",
      "19|4250.316326530612\n",
      "20|4275.816326530612\n",
      "21|4301.316326530612\n",
      "22|4326.816326530612\n",
      "23|4352.316326530612\n",
      "24|4377.816326530612\n",
      "25|4403.316326530612\n",
      "26|4428.816326530612\n",
      "27|4454.316326530612\n",
      "28|4479.816326530612\n",
      "29|4505.316326530612\n",
      "30|4530.816326530612\n",
      "31|4556.316326530612\n",
      "32|4581.816326530612\n",
      "33|4607.316326530612\n",
      "34|4632.816326530612\n",
      "35|4658.316326530612\n",
      "36|4683.816326530612\n",
      "37|4709.316326530612\n",
      "38|4734.816326530612\n",
      "39|4760.316326530612\n",
      "40|4785.816326530612\n",
      "41|4811.316326530612\n",
      "42|4836.816326530612\n",
      "43|4862.316326530612\n",
      "44|4887.816326530612\n",
      "45|4913.316326530612\n",
      "46|4938.816326530612\n",
      "47|4964.316326530612\n",
      "48|4989.816326530612\n",
      "49|5015.316326530612\n",
      "50|5040.816326530612\n",
      "51|5066.316326530612\n",
      "52|5091.816326530612\n",
      "53|5117.316326530612\n",
      "54|5142.816326530612\n",
      "55|5168.316326530612\n",
      "56|5193.816326530612\n",
      "57|5219.316326530612\n",
      "58|5244.816326530612\n",
      "59|5270.316326530612\n",
      "60|5295.816326530612\n"
     ]
    }
   ],
   "source": [
    "# usamos ;cat para que nos muestre los datos para graficar\n",
    ";cat grafica.csv"
   ]
  },
  {
   "cell_type": "code",
   "execution_count": null,
   "metadata": {},
   "outputs": [],
   "source": [
    "# c) Escribe un programa que arroje como resultado un archivo con los datos de un tiro parabolico, en un intervalo de tiempo [ti, tf]"
   ]
  },
  {
   "cell_type": "code",
   "execution_count": 4,
   "metadata": {},
   "outputs": [],
   "source": [
    "# Creamos un arreglo para el tiempo\n",
    "t=collect(0.0:3.0:70.0);"
   ]
  },
  {
   "cell_type": "code",
   "execution_count": 5,
   "metadata": {},
   "outputs": [],
   "source": [
    "# Asignamos un valor a la velocidad inicial\n",
    "v_0=380.0; #m/s²"
   ]
  },
  {
   "cell_type": "code",
   "execution_count": 6,
   "metadata": {},
   "outputs": [],
   "source": [
    "# Le asignamos valor a la gravedad \n",
    "g= 9.81; #m/s²"
   ]
  },
  {
   "cell_type": "code",
   "execution_count": 7,
   "metadata": {},
   "outputs": [
    {
     "data": {
      "text/plain": [
       "1.0471975511965976"
      ]
     },
     "execution_count": 7,
     "metadata": {},
     "output_type": "execute_result"
    }
   ],
   "source": [
    "# Le assignamos el valor a teta\n",
    "θ=π/3"
   ]
  },
  {
   "cell_type": "code",
   "execution_count": 24,
   "metadata": {},
   "outputs": [],
   "source": [
    "# Tendremos que la velocidad sera igual a la velocidad inicial por el coseno de teta mas la velocidad inicialpor el seno de teta\n",
    "v = v_0*cos(θ)+v_0*sin(θ);"
   ]
  },
  {
   "cell_type": "code",
   "execution_count": 9,
   "metadata": {},
   "outputs": [
    {
     "data": {
      "text/plain": [
       "-9.81"
      ]
     },
     "execution_count": 9,
     "metadata": {},
     "output_type": "execute_result"
    }
   ],
   "source": [
    "# Le asignamos el valor de la aceleracion que es el valor de la gravedad pero negativa \n",
    "a= -g"
   ]
  },
  {
   "cell_type": "code",
   "execution_count": 10,
   "metadata": {},
   "outputs": [],
   "source": [
    "# creamos los puntos en los que se graficaran los resultado tanto para x como para y\n",
    "x=zeros(t);\n",
    "y=zeros(t);"
   ]
  },
  {
   "cell_type": "code",
   "execution_count": 11,
   "metadata": {},
   "outputs": [],
   "source": [
    "# Creamos un ciclo for\n",
    "for i ∈ eachindex(t)\n",
    "    x[i]=v_0*cos(θ)*t[i]\n",
    "    y[i]=(-1/2*g*t[i]^2)+v_0*sin(θ)*t[i]\n",
    "end\n",
    "# En el cual tenemos que por cada numero en el tiempo tendremos que x sera igual a la formula de la velocidad antes mencionada y tendremos que y sera igual a menos un medio por la gravedad por el tiempo al cuadrado mas la velocidad inicial por el seno de teta por el tiempo"
   ]
  },
  {
   "cell_type": "code",
   "execution_count": 12,
   "metadata": {},
   "outputs": [
    {
     "name": "stderr",
     "output_type": "stream",
     "text": [
      "\u001b[1m\u001b[36mINFO: \u001b[39m\u001b[22m\u001b[36mInitializing package repository /mnt/juliabox/.julia/v0.6\n",
      "\u001b[39m\u001b[1m\u001b[36mINFO: \u001b[39m\u001b[22m\u001b[36mCloning METADATA from https://github.com/JuliaLang/METADATA.jl\n",
      "\u001b[39m"
     ]
    }
   ],
   "source": [
    "# utilizamos using Plots para poder gragicar\n",
    "using Plots"
   ]
  },
  {
   "cell_type": "code",
   "execution_count": 13,
   "metadata": {},
   "outputs": [
    {
     "data": {
      "text/plain": [
       "Plots.PyPlotBackend()"
      ]
     },
     "execution_count": 13,
     "metadata": {},
     "output_type": "execute_result"
    }
   ],
   "source": [
    "# lo usamos porque vamos a graficar\n",
    "pyplot()"
   ]
  },
  {
   "cell_type": "code",
   "execution_count": 14,
   "metadata": {},
   "outputs": [
    {
     "data": {
      "text/html": [
       "<img src=\"data:image/png;base64,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\" />"
      ]
     },
     "execution_count": 14,
     "metadata": {},
     "output_type": "execute_result"
    }
   ],
   "source": [
    "# usamos plot porque es como vamos graficar\n",
    "plot(x,y,w=2)\n",
    "title!(\"Max alcance\")\n",
    "# usamos title! ya con este le asignaremos un nombre a la grafica"
   ]
  },
  {
   "cell_type": "code",
   "execution_count": 15,
   "metadata": {},
   "outputs": [],
   "source": [
    "# le asignamos a datos el valor de hcat que nos dara los datos de xy\n",
    "datos=hcat(x,y);"
   ]
  },
  {
   "cell_type": "code",
   "execution_count": 16,
   "metadata": {},
   "outputs": [],
   "source": [
    "# writedlm lo usamos para obtengamos los datos para graficar \n",
    "writedlm(\"grafica.csv\" ,datos, '|')"
   ]
  },
  {
   "cell_type": "code",
   "execution_count": 17,
   "metadata": {},
   "outputs": [
    {
     "name": "stdout",
     "output_type": "stream",
     "text": [
      "0|0\n",
      "570.0000000000001|943.12396031426\n",
      "1140.0000000000002|1797.95792062852\n",
      "1710.0000000000002|2564.50188094278\n",
      "2280.0000000000005|3242.7558412570397\n",
      "2850.0000000000005|3832.7198015713\n",
      "3420.0000000000005|4334.39376188556\n",
      "3990.0000000000005|4747.77772219982\n",
      "4560.000000000001|5072.87168251408\n",
      "5130.000000000001|5309.675642828339\n",
      "5700.000000000001|5458.1896031426\n",
      "6270.000000000001|5518.413563456859\n",
      "6840.000000000001|5490.34752377112\n",
      "7410.000000000001|5373.991484085379\n",
      "7980.000000000001|5169.34544439964\n",
      "8550.000000000002|4876.409404713899\n",
      "9120.000000000002|4495.183365028159\n",
      "9690.000000000002|4025.667325342418\n",
      "10260.000000000002|3467.861285656678\n",
      "10830.000000000002|2821.765245970939\n",
      "11400.000000000002|2087.379206285201\n",
      "11970.000000000002|1264.7031665994582\n",
      "12540.000000000002|353.7371269137184\n",
      "13110.000000000002|-645.5189127720223\n"
     ]
    }
   ],
   "source": [
    "# usamos ;cat para que nos muestre los datos para graficar\n",
    ";cat grafica.csv"
   ]
  },
  {
   "cell_type": "code",
   "execution_count": 19,
   "metadata": {},
   "outputs": [
    {
     "data": {
      "text/html": [
       "<img src=\"data:image/png;base64,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\" />"
      ]
     },
     "execution_count": 19,
     "metadata": {},
     "output_type": "execute_result"
    }
   ],
   "source": [
    "# usamos plot porque es como vamos graficar\n",
    "plot(x,t,w=2)\n",
    "title!(\"tiempo de vuelo\")\n",
    "# usamos title! ya con este le asignaremos un nombre a la grafica"
   ]
  },
  {
   "cell_type": "code",
   "execution_count": 20,
   "metadata": {},
   "outputs": [],
   "source": [
    "# le asignamos a datos el valor de hcat que nos dara los datos de xy\n",
    "datos=hcat(x,y);"
   ]
  },
  {
   "cell_type": "code",
   "execution_count": 21,
   "metadata": {},
   "outputs": [],
   "source": [
    "# writedlm lo usamos para obtengamos los datos para graficar \n",
    "writedlm(\"grafica.csv\" ,datos, '|')"
   ]
  },
  {
   "cell_type": "code",
   "execution_count": 22,
   "metadata": {},
   "outputs": [
    {
     "name": "stdout",
     "output_type": "stream",
     "text": [
      "0|0\n",
      "570.0000000000001|943.12396031426\n",
      "1140.0000000000002|1797.95792062852\n",
      "1710.0000000000002|2564.50188094278\n",
      "2280.0000000000005|3242.7558412570397\n",
      "2850.0000000000005|3832.7198015713\n",
      "3420.0000000000005|4334.39376188556\n",
      "3990.0000000000005|4747.77772219982\n",
      "4560.000000000001|5072.87168251408\n",
      "5130.000000000001|5309.675642828339\n",
      "5700.000000000001|5458.1896031426\n",
      "6270.000000000001|5518.413563456859\n",
      "6840.000000000001|5490.34752377112\n",
      "7410.000000000001|5373.991484085379\n",
      "7980.000000000001|5169.34544439964\n",
      "8550.000000000002|4876.409404713899\n",
      "9120.000000000002|4495.183365028159\n",
      "9690.000000000002|4025.667325342418\n",
      "10260.000000000002|3467.861285656678\n",
      "10830.000000000002|2821.765245970939\n",
      "11400.000000000002|2087.379206285201\n",
      "11970.000000000002|1264.7031665994582\n",
      "12540.000000000002|353.7371269137184\n",
      "13110.000000000002|-645.5189127720223\n"
     ]
    }
   ],
   "source": [
    "# usamos ;cat para que nos muestre los datos para graficar\n",
    ";cat grafica.csv"
   ]
  }
 ],
 "metadata": {
  "kernelspec": {
   "display_name": "Julia 0.6.0",
   "language": "julia",
   "name": "julia-0.6"
  },
  "language_info": {
   "file_extension": ".jl",
   "mimetype": "application/julia",
   "name": "julia",
   "version": "0.6.0"
  }
 },
 "nbformat": 4,
 "nbformat_minor": 2
}
