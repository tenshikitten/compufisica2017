{
 "cells": [
  {
   "cell_type": "code",
   "execution_count": null,
   "metadata": {},
   "outputs": [],
   "source": [
    "# creamos una carpeta donde se trabajara el script para que sea mas pracyico trabajar \n",
    "ls\n",
    "touch tareaspract1 hdez.hdez.l.angel.sh\n",
    "nano tareaspract1 hdez.hdez.l.angel.sh\n",
    "# con touch para crear archivos \n",
    "# con nano para entrar y trabajar dentro de el archivo crado\n",
    "# con ls para saber en donde nos encontramos"
   ]
  },
  {
   "cell_type": "code",
   "execution_count": null,
   "metadata": {},
   "outputs": [],
   "source": [
    "# se creara una estructura de archivos como la siguiente:\n",
    "touch configuracion programas reinstalacion usuarios\n",
    "cd/configuracion\n",
    "touch x11 gname\n",
    "cd home/SUBARASHII/respaldo_sistema\n",
    "touch phyton/scripts\n",
    "# con touch para crear archivos\n",
    "#con cd para para cambiar de carpeta y con / para saltar de un archivo a otra\n"
   ]
  },
  {
   "cell_type": "code",
   "execution_count": null,
   "metadata": {},
   "outputs": [],
   "source": [
    "# Dentro de el directorio de nombre reinstalacion se crearan los siguientes archivos\n",
    "cd home/SUBARASHII/respaldo_sistema/reinstalacion\n",
    "touch guia notas secuencia.data paquete.pkg imagen.iso\n",
    "# con touch para crear archivos \n",
    "# con / para saltar de un archivo a otra"
   ]
  },
  {
   "cell_type": "code",
   "execution_count": null,
   "metadata": {},
   "outputs": [],
   "source": [
    "# se despliegara una lista de archivos,directorios y subdirectorios y los ocultos de el archivo tareaspract1 ...\n",
    "tree /home/usuario/tareaspract1 hdez.hdez.l.angel.sh\n",
    "# con tree para desplegar en forma de arbol los archivos,directorios y subdirectorios y los ocultos del archivo de tareaspract1"
   ]
  },
  {
   "cell_type": "code",
   "execution_count": null,
   "metadata": {},
   "outputs": [],
   "source": [
    "# se copiara de forma interactiva al directorio configuracion/x11 todos los archivos y directorios contenidos en el directorio /etc/x11 que comiencen con la letra x\n",
    "cp -r/bin/* programas/ > find /etc/X11/ -name \"[x]*\" | xargs -i cp -r [] configuracion/X11/\n",
    "# Con cp-r para una copia recursiva del directorio informe dentro del directorio respaldo y con * para copiar todo y con > nos permite redireccionar la salida de un programa hacia un archivo, \n",
    "# con find para encontrar archivos con -name para buscar los archivos con la terminacion x"
   ]
  },
  {
   "cell_type": "code",
   "execution_count": null,
   "metadata": {},
   "outputs": [],
   "source": [
    "# siendo el superusuario root..."
   ]
  },
  {
   "cell_type": "code",
   "execution_count": null,
   "metadata": {},
   "outputs": [],
   "source": [
    "# a) rrar los directorios /etc/apache2/ y /var/www con todo y su contenido\n",
    "rm -f /etc/apache2 /var/www\n",
    "# con rm -f para eliminar y  –f fuerza a que los elementos sean borrados unque nosotros no tengamos permisos sobre ellos."
   ]
  },
  {
   "cell_type": "code",
   "execution_count": null,
   "metadata": {},
   "outputs": [],
   "source": [
    "# b) cambiar el nombre del archivo bookmarks.html que esta en el directorio /etc /firefox 3.5/profile/a favoritos.resp\n",
    "# nos moveremos con cd\n",
    "cd etc/firefox-3.5/profile\n",
    "mv bookmarks.html favoritos.resp\n",
    "# con mv para mover con el espacio se mueve hacia la carpeta que le sigue\n",
    "# con cd para cambiarnos de directorio"
   ]
  },
  {
   "cell_type": "code",
   "execution_count": null,
   "metadata": {},
   "outputs": [],
   "source": [
    "# c)  borrar del directorio /etc todos los archivos con terminacion  .conf\n",
    "# nos movemos con cd\n",
    "cd /etc\n",
    "find cd /etc -name \"*.conf\" < rm-f\n",
    "# no movemos con cd a un directorio\n",
    "# Con find para buscar archivos y -name para buscar con la terminacion en este caso .conf\n",
    "# con < nos permite redireccionar un archivo hacia un programa\n",
    "# y rm-f eliminaremos los archivos"
   ]
  }
 ],
 "metadata": {
  "kernelspec": {
   "display_name": "Julia 0.6.0",
   "language": "julia",
   "name": "julia-0.6"
  },
  "language_info": {
   "file_extension": ".jl",
   "mimetype": "application/julia",
   "name": "julia",
   "version": "0.6.0"
  }
 },
 "nbformat": 4,
 "nbformat_minor": 2
}
