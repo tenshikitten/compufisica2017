{
 "cells": [
  {
   "cell_type": "code",
   "execution_count": null,
   "metadata": {},
   "outputs": [],
   "source": [
    "# crearemos una funcin para sumar vectores "
   ]
  },
  {
   "cell_type": "code",
   "execution_count": 5,
   "metadata": {},
   "outputs": [
    {
     "data": {
      "text/plain": [
       "SumaVec (generic function with 1 method)"
      ]
     },
     "execution_count": 5,
     "metadata": {},
     "output_type": "execute_result"
    }
   ],
   "source": [
    "# crearemos una funcion para sumar dos vectores en r3\n",
    "function SumaVec(A,B) \n",
    "    if length(A)==length(B)==3 #Comenzamos con un if ya que nos da la condicion de que si el tamaño de la matriz A es igual al de la matriz B es igual a 3\n",
    "        c= zeros(length(A)) # creamos un arreglo de zaros para la matriz A\n",
    "        for i ∈ 1:length(A) # creamos un ciclo for que nos dice que por cada numero en la extension de A tenemos que c sera igual a c mas un numero de la matriz A mas el numero de la matriz B y terminamos con un end\n",
    "            c[i]+=A[i]+B[i]\n",
    "            end \n",
    "        c\n",
    "    else\n",
    "        print(\"error\")# creamos un print para que si no pasa lo anterior nos muestre error y terminamos con un end\n",
    "    end\n",
    "end"
   ]
  },
  {
   "cell_type": "code",
   "execution_count": 3,
   "metadata": {},
   "outputs": [
    {
     "data": {
      "text/plain": [
       "(7, 8, 9)"
      ]
     },
     "execution_count": 3,
     "metadata": {},
     "output_type": "execute_result"
    }
   ],
   "source": [
    "# creamos el primer vector en r3 en forma de lista\n",
    "A=(7,8,9)"
   ]
  },
  {
   "cell_type": "code",
   "execution_count": 4,
   "metadata": {},
   "outputs": [
    {
     "data": {
      "text/plain": [
       "(6, 5, 3)"
      ]
     },
     "execution_count": 4,
     "metadata": {},
     "output_type": "execute_result"
    }
   ],
   "source": [
    "# creamos el segundo vector en r3 en forma de lista\n",
    "B =(6,5,3)"
   ]
  },
  {
   "cell_type": "code",
   "execution_count": 6,
   "metadata": {},
   "outputs": [
    {
     "data": {
      "text/plain": [
       "3-element Array{Float64,1}:\n",
       " 13.0\n",
       " 13.0\n",
       " 12.0"
      ]
     },
     "execution_count": 6,
     "metadata": {},
     "output_type": "execute_result"
    }
   ],
   "source": [
    "# Realizamos la operacion\n",
    "SumaVec(A,B)"
   ]
  }
 ],
 "metadata": {
  "kernelspec": {
   "display_name": "Julia 0.6.0",
   "language": "julia",
   "name": "julia-0.6"
  },
  "language_info": {
   "file_extension": ".jl",
   "mimetype": "application/julia",
   "name": "julia",
   "version": "0.6.0"
  }
 },
 "nbformat": 4,
 "nbformat_minor": 2
}
