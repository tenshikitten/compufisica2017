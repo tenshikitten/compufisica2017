{
 "cells": [
  {
   "cell_type": "code",
   "execution_count": 4,
   "metadata": {},
   "outputs": [
    {
     "data": {
      "text/plain": [
       "prodInt (generic function with 1 method)"
      ]
     },
     "execution_count": 4,
     "metadata": {},
     "output_type": "execute_result"
    }
   ],
   "source": [
    "# crearemos una funcion llamada producto interno para poder realizar el producto punto de dos vectores en r3\n",
    "function prodInt(vect1,vect2)\n",
    "    if(length(vect1)==length(vect2)) # ocupamos if como condicional ya que Si los valores de los 2 operadores son iguales p= o.o ,\n",
    "        p=0.0\n",
    "        for i ∈ 1:length(vect1) # creamos un ciclo con  for en el cual un numero esta en legth ,es decir,en el tamaño del vector en este caso del vect1\n",
    "            p=p+(vect1[i]*vect2[i]) # tenemos que p sera igual a la suma de p con un numero del primer vector por otro numero del otro vector para que se lleve a cabo el producto punto\n",
    "        end\n",
    "        return p # y tyerminamos el ciclo con end y en caso de que no se cumpla el ciclo ,se realizara de nuevo el ciclo con la funcion return.\n",
    "        end \n",
    "end  # y cuando se cumpla terminara el ciclo nuevamente con end.\n",
    "\n",
    "# la función length devuelve la longitud de el número de elementos de una lista es la lista o cadena que queremos \"medir\"\n",
    "#se utiliza el == porque creamos la condicion de que si los dos vectores son iguales p=o"
   ]
  },
  {
   "cell_type": "code",
   "execution_count": 5,
   "metadata": {},
   "outputs": [
    {
     "data": {
      "text/plain": [
       "(1, 2, 5)"
      ]
     },
     "execution_count": 5,
     "metadata": {},
     "output_type": "execute_result"
    }
   ],
   "source": [
    "# creamos el primer vector en r3\n",
    "vect1=(1,2,5)"
   ]
  },
  {
   "cell_type": "code",
   "execution_count": 6,
   "metadata": {},
   "outputs": [
    {
     "data": {
      "text/plain": [
       "(4, 5, 6)"
      ]
     },
     "execution_count": 6,
     "metadata": {},
     "output_type": "execute_result"
    }
   ],
   "source": [
    "# creamos el segundo vector en r3\n",
    "vect2=(4,5,6)"
   ]
  },
  {
   "cell_type": "code",
   "execution_count": 7,
   "metadata": {},
   "outputs": [
    {
     "data": {
      "text/plain": [
       "44.0"
      ]
     },
     "execution_count": 7,
     "metadata": {},
     "output_type": "execute_result"
    }
   ],
   "source": [
    "# realizamos la operacion y obtendremos el producto punto de los vecores en r3\n",
    "prodInt(vect1,vect2)"
   ]
  }
 ],
 "metadata": {
  "kernelspec": {
   "display_name": "Julia 0.6.0",
   "language": "julia",
   "name": "julia-0.6"
  },
  "language_info": {
   "file_extension": ".jl",
   "mimetype": "application/julia",
   "name": "julia",
   "version": "0.6.0"
  }
 },
 "nbformat": 4,
 "nbformat_minor": 2
}
