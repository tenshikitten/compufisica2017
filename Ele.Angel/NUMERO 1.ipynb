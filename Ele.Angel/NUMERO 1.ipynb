{
 "cells": [
  {
   "cell_type": "code",
   "execution_count": null,
   "metadata": {},
   "outputs": [],
   "source": [
    "# A) Calcularemos el promedio de varios numeros "
   ]
  },
  {
   "cell_type": "code",
   "execution_count": 3,
   "metadata": {},
   "outputs": [
    {
     "data": {
      "text/plain": [
       "Promed (generic function with 1 method)"
      ]
     },
     "execution_count": 3,
     "metadata": {},
     "output_type": "execute_result"
    }
   ],
   "source": [
    "# Creamos una funcion para calcular el promedio \n",
    "# utlizamos la formula para calcular el promedio que es la suma de los elementos entre el numero de elementos\n",
    "function Promed(a,b) \n",
    "    c=0 # tendremos que c sera igual a cero como contador\n",
    "end\n",
    "    c=c+(a+b)/2 # despues a c le otorgamos el valor de la formula para calcular el promedio que es c mas la suma de los elementos entre el numero de elementos \n",
    "    return c # usamos return para que regrese a c y terminamos con un end"
   ]
  },
  {
   "cell_type": "code",
   "execution_count": 4,
   "metadata": {},
   "outputs": [
    {
     "data": {
      "text/plain": [
       "35.0"
      ]
     },
     "execution_count": 4,
     "metadata": {},
     "output_type": "execute_result"
    }
   ],
   "source": [
    "# y calculamos el promedio \n",
    " Promed(14,56) "
   ]
  },
  {
   "cell_type": "code",
   "execution_count": 55,
   "metadata": {},
   "outputs": [],
   "source": [
    "# B) calcularemos La suma desde 0 hasta un numero n"
   ]
  },
  {
   "cell_type": "code",
   "execution_count": 52,
   "metadata": {},
   "outputs": [
    {
     "data": {
      "text/plain": [
       "SumaNat (generic function with 1 method)"
      ]
     },
     "execution_count": 52,
     "metadata": {},
     "output_type": "execute_result"
    }
   ],
   "source": [
    "# creamos una funcion para calcular la suma de los n naturales\n",
    "function SumaNat(N)\n",
    "    suma=0 #la suma sera igual a 0 e i sera igual a 1\n",
    "    i=1\n",
    "    while i ≤ N # despues con un while que nos dice que mientras i sea menor igual a N la suma sera igual a la suma m,as i\n",
    "        suma+=i #es lo mismo que: suma=suma+i\n",
    "        i+=1# despues tenemos que i sera igual a i mas 1y terminamos con un end y ponemos print para que nos de el resultado y terminamos nuevamente con end\n",
    "    end\n",
    "    println(suma)\n",
    "end"
   ]
  },
  {
   "cell_type": "code",
   "execution_count": null,
   "metadata": {},
   "outputs": [],
   "source": [
    "# Probamos la funcion con distintos numeros"
   ]
  },
  {
   "cell_type": "code",
   "execution_count": 53,
   "metadata": {},
   "outputs": [
    {
     "name": "stdout",
     "output_type": "stream",
     "text": [
      "55\n"
     ]
    }
   ],
   "source": [
    "SumaNat(10)"
   ]
  },
  {
   "cell_type": "code",
   "execution_count": 54,
   "metadata": {},
   "outputs": [
    {
     "name": "stdout",
     "output_type": "stream",
     "text": [
      "5050\n"
     ]
    }
   ],
   "source": [
    "SumaNat(100)"
   ]
  },
  {
   "cell_type": "code",
   "execution_count": null,
   "metadata": {
    "collapsed": true
   },
   "outputs": [],
   "source": [
    "# C) creamos una funcion para calcular el factorial de un numero "
   ]
  },
  {
   "cell_type": "code",
   "execution_count": 1,
   "metadata": {},
   "outputs": [
    {
     "data": {
      "text/plain": [
       "Nfact (generic function with 1 method)"
      ]
     },
     "execution_count": 1,
     "metadata": {},
     "output_type": "execute_result"
    }
   ],
   "source": [
    "function Nfact(N) \n",
    "    if N==0 # comenzaremos con un condicional if ya que estamos haciendo una validacion de que si N  0 entonces r sera 1\n",
    "        r=1\n",
    "    else # con else lo que estamos haciendo es que estamos dando una alternativa que cumple otras condiciones, la condicion r sera igual al numero natural por el factorial menos 1 \n",
    "        r=N*Nfact(N-1)\n",
    "        return r # con return lo que hace es que fuerza una salida inmediata de la función en que se encuentra. O sea, hace que la ejecución del programa vuelva al código que llamó a la función,tambien se utilizar para devolver un valor en este caso a r\n",
    "   end  # con end se termina el else y otro end para terminar el ciclo\n",
    "end"
   ]
  },
  {
   "cell_type": "code",
   "execution_count": 3,
   "metadata": {},
   "outputs": [
    {
     "data": {
      "text/plain": [
       "720"
      ]
     },
     "execution_count": 3,
     "metadata": {},
     "output_type": "execute_result"
    }
   ],
   "source": [
    "# calculamos el factorial de un numero con la funcion \n",
    "Nfact(6)"
   ]
  },
  {
   "cell_type": "code",
   "execution_count": null,
   "metadata": {},
   "outputs": [],
   "source": [
    "# D) Calcularemos la potencia de A a B"
   ]
  },
  {
   "cell_type": "code",
   "execution_count": 3,
   "metadata": {},
   "outputs": [
    {
     "name": "stderr",
     "output_type": "stream",
     "text": [
      "WARNING: Method definition Pot(Any, Any) in module Main at In[1]:2 overwritten at In[3]:2.\n"
     ]
    },
    {
     "data": {
      "text/plain": [
       "Pot (generic function with 1 method)"
      ]
     },
     "execution_count": 3,
     "metadata": {},
     "output_type": "execute_result"
    }
   ],
   "source": [
    "# Crearemos una funcion para potencar un numero A a una potencia B\n",
    "function Pot(A,B) \n",
    "    x=0.0  # le daremos el valor de 0.0 a x ya que sera el contador\n",
    "    x=A^B # despues a x le otorgamos el valor de la potencia de A a B\n",
    "    print(x) # le pedimos con print el resultado y terminaremos con un end\n",
    "end\n"
   ]
  },
  {
   "cell_type": "code",
   "execution_count": 4,
   "metadata": {},
   "outputs": [
    {
     "name": "stdout",
     "output_type": "stream",
     "text": [
      "40353607"
     ]
    }
   ],
   "source": [
    "# Probamos la funcion \n",
    "Pot(7,9)"
   ]
  }
 ],
 "metadata": {
  "kernelspec": {
   "display_name": "Julia 0.5.2",
   "language": "julia",
   "name": "julia-0.5"
  },
  "language_info": {
   "file_extension": ".jl",
   "mimetype": "application/julia",
   "name": "julia",
   "version": "0.5.2"
  }
 },
 "nbformat": 4,
 "nbformat_minor": 2
}
