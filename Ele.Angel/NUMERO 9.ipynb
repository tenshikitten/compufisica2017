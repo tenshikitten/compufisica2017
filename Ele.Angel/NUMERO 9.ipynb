{
 "cells": [
  {
   "cell_type": "code",
   "execution_count": null,
   "metadata": {},
   "outputs": [],
   "source": [
    "#  A) realizaremos la suma de dos matrices"
   ]
  },
  {
   "cell_type": "code",
   "execution_count": 2,
   "metadata": {},
   "outputs": [
    {
     "data": {
      "text/plain": [
       "SumaMat (generic function with 1 method)"
      ]
     },
     "execution_count": 2,
     "metadata": {},
     "output_type": "execute_result"
    }
   ],
   "source": [
    "# crearemos una funcion para calcular la suma de dos matrices\n",
    "function SumaMat(A,B)\n",
    "    if size(A)==(2, 2);size(B)==(2, 2) # usamos un if como condicional ya que si el tamaño del vector A es igual a el vector B \n",
    "        C=zeros(size(A)) # creamos un arreglo de zaros para la matriz A\n",
    "        for i ∈ 1:size(A)[1] # creamos un ciclo for que nos dice por cada numero en el tamaño de la matriz A en la primera columna\n",
    "            for j ∈ 1:size(A)[2] # creamos un ciclo for nuevamente donde  nos dice que por cada otro numero en el tamaño de la matriz en la segunda columna tendremos que b sera igual a la suma de un numero de la matriz A mas un numero de la matriz B  e igual con el otro numero\n",
    "                b=A[i,j]+B[i,j]\n",
    "                C[i,j]+=b # tenemos que aqui se suman los numeros de cada matriz y se termina con un end y si no pasa lo anterir le decimos con print que nos marque error y terminaremos el ciclo con un end\n",
    "            end\n",
    "        end\n",
    "        C\n",
    "    else\n",
    "        print(\"error\")\n",
    "    end\n",
    "end"
   ]
  },
  {
   "cell_type": "code",
   "execution_count": 6,
   "metadata": {},
   "outputs": [
    {
     "data": {
      "text/plain": [
       "2×2 Array{Int64,2}:\n",
       " 8  9\n",
       " 6  5"
      ]
     },
     "execution_count": 6,
     "metadata": {},
     "output_type": "execute_result"
    }
   ],
   "source": [
    "# creamos la primera matriz en forma de lista\n",
    "A = [8 9; 6 5;]"
   ]
  },
  {
   "cell_type": "code",
   "execution_count": 5,
   "metadata": {},
   "outputs": [
    {
     "data": {
      "text/plain": [
       "2×2 Array{Int64,2}:\n",
       " 8  5\n",
       " 9  8"
      ]
     },
     "execution_count": 5,
     "metadata": {},
     "output_type": "execute_result"
    }
   ],
   "source": [
    "# creamos la segunda matriz en forma de lista\n",
    "B = [8 5 ; 9 8;]"
   ]
  },
  {
   "cell_type": "code",
   "execution_count": 7,
   "metadata": {},
   "outputs": [
    {
     "data": {
      "text/plain": [
       "2×2 Array{Float64,2}:\n",
       " 16.0  14.0\n",
       " 15.0  13.0"
      ]
     },
     "execution_count": 7,
     "metadata": {},
     "output_type": "execute_result"
    }
   ],
   "source": [
    "# Realizamos la operacion\n",
    "SumaMatr2X2(A,B)"
   ]
  }
 ],
 "metadata": {
  "kernelspec": {
   "display_name": "Julia 0.6.0",
   "language": "julia",
   "name": "julia-0.6"
  },
  "language_info": {
   "file_extension": ".jl",
   "mimetype": "application/julia",
   "name": "julia",
   "version": "0.6.0"
  }
 },
 "nbformat": 4,
 "nbformat_minor": 2
}
