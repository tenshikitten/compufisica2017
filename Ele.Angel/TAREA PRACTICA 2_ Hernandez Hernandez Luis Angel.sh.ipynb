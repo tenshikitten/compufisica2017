{
 "cells": [
  {
   "cell_type": "code",
   "execution_count": null,
   "metadata": {},
   "outputs": [],
   "source": [
    " # se crea un archivo de trabajo para realizar el script con ls para saber en donde estamos \n",
    "ls\n",
    "touch tareaspract2 hdez.hdez.l.angel.sh\n",
    "nano tareaspract2 hdez.hdez.l.angel.sh\n",
    "# con touch para crear el archivo donde se trabajara\n",
    "#con nano para trabajar en el aarchivo creado"
   ]
  },
  {
   "cell_type": "code",
   "execution_count": null,
   "metadata": {},
   "outputs": [],
   "source": [
    "# a) Crea un archivo linux.etc (dentro de tu directorio de trabajo) que contenga las rutas de todos los archivos del directorio /etc/ (incluyendo sus subdirectorios) que en su interior contienen la palabra daemon\".\n",
    "touch linux.etc\n",
    "tar –cvx daemon.tar /etc/ >linux.etc\n",
    "\n",
    "# con touch para crear un archivo\n",
    "# con cd nos moveremos a la carpeta\n",
    "# con tar –cvx haremos que contenga todas las rutas del los archivos del directorio y que contengan la palabra  daemon\n",
    "# con > que nos permite redireccionar la salida de un programa hacia un archivo"
   ]
  },
  {
   "cell_type": "code",
   "execution_count": null,
   "metadata": {},
   "outputs": [],
   "source": [
    "# b) Agrega a ese archivo las rutas de los archivos del directorio /etc/ cuya extension sea \\.conf\" y que en su interior contengan la palabra \\linux\". \n",
    "find /home/SUBARASHII -name \"*.conf\" > tar –cvx linux.tar /etc/\n",
    "# con cd para movernos a la carpeta \n",
    "#  con find para buscar archivos y con -name para buscar la terminacion x\n",
    "# nos permite redireccionar la salida de un programa hacia un archivo"
   ]
  },
  {
   "cell_type": "code",
   "execution_count": null,
   "metadata": {},
   "outputs": [],
   "source": [
    "# c) Analiza el archivo /etc/passwd y filtra la informacion de tu usuario.\n",
    " more /etc/passwd\n",
    "# con more para analizar y ver su contenido"
   ]
  },
  {
   "cell_type": "code",
   "execution_count": null,
   "metadata": {},
   "outputs": [],
   "source": [
    "# a) Encuentra todos los archivos que cuenten con todos los permisos para todos los usuarios en el directorio /usr.\n",
    "find / -perm 777\n",
    "# con fin para buscar y con el sistema octal de todos los permisos que es 7 tanto para el usuario ,grupo y otros "
   ]
  },
  {
   "cell_type": "code",
   "execution_count": null,
   "metadata": {},
   "outputs": [],
   "source": [
    "# b) Encuentra todos los archivos que tengan la extension \\.tar\" en el directorio /var\n",
    "find /home/SUBARASHII -name \"*.tar\"\n",
    "# con find para buscar los archivos y -name \"*.tar\" para que sean los archivos que tengan la terminacion .tar "
   ]
  },
  {
   "cell_type": "code",
   "execution_count": null,
   "metadata": {},
   "outputs": [],
   "source": [
    "# Crea un archivo llamado MisProcesos.prs (dentro de tu directorio de trabajo) que contenga todos los procesos de tu usuario activos en tu equipo, junto con sus caracteristicas.\n",
    "cd home/SUBARASHII/tareaspract2 hdez.hdez.l.angel.sh\n",
    "touch MisProcesos.prs\n",
    "cd MisProcesos.prs \n",
    "ps -u SUBARASHII\n",
    "# con cd para movernos de directorio\n",
    "# con mkdir para crear el archivo\n",
    "# con ps -u para que contenga todos los procesos del usuario activos en el equipo"
   ]
  },
  {
   "cell_type": "code",
   "execution_count": null,
   "metadata": {},
   "outputs": [],
   "source": [
    "# Cambia los permisos de los siguientes archivos."
   ]
  },
  {
   "cell_type": "code",
   "execution_count": null,
   "metadata": {},
   "outputs": [],
   "source": [
    "# a) linux.etc Todos los permisos para el dueño, y solo de ejecucion para el grupo y para otros.\n",
    "chmod u+rwx,g+x,o+x linux.etc\n",
    "# Con chmod para cambiar los permisos \n",
    "# para los permisos para el dueño ya que u de usuario con mas para agregar los permisos de lectura r, lectura con w y x para ejecutables\n",
    "# despues con g de grupo solo se le agregan permisos de ejecucion y por ultimo con o de otros solo se le otorga el permiso de ejecucion"
   ]
  },
  {
   "cell_type": "code",
   "execution_count": null,
   "metadata": {},
   "outputs": [],
   "source": [
    "# b) MisProcesos.prs Todos los permisos para el due~no, solo de lectura para el grupo y sin permisos para otros.\n",
    "chmod u+rwx,g+r,o-rwx MisProcesos.prs\n",
    "# Con chmod para cambiar los permisos para el dueño ya que u de usuario con mas para agregar los permisos de lectura r, escritura con w y x para ejecutables\n",
    "# despues con g de grupo solo se le agregan permisos de lectura y por ultimo con o de otros solo queda sin permisos con menos por que se le quitan los permisos"
   ]
  },
  {
   "cell_type": "code",
   "execution_count": null,
   "metadata": {},
   "outputs": [],
   "source": [
    "# a) Crea un archivo llamado \\todos.prm\" y usando el metodo tradicional dale permisos de ejecucion,lectura y escritura tanto al usuario, como a los otros pero solo dale permisos de lectura al grupo.\n",
    "mkdir todos.prm\n",
    "chmod u+rwx,g+rwx,o+r todos.prm\n",
    "# Con chmod para cambiar los permisos para el dueño ya que es u de usuario con mas para agregar los permisos de lectura r, escritura con w y x para ejecutables\n",
    "# para el grupo ya que es g con mas para agregar los permisos de lectura r, escritura con w y x para ejecutables\n",
    "# y por ultimo al grupo solo se le da el permiso de lectura con mas"
   ]
  },
  {
   "cell_type": "code",
   "execution_count": null,
   "metadata": {},
   "outputs": [],
   "source": [
    "# b) Crea un archivo llamado \\grupo.prm\" y usando el metodo octal dale permisos de ejecucion y lectura al usuario, de ejecucion, lectura y escritura al grupo y ningun permiso a los demas. \n",
    "touch grupo.prm\n",
    "chmod 570 grupo.prm\n",
    "# se le asinaran los permisos de lectura y ejecucion que es 5 en sistema octal al usuario, todos los permisos que es 7 para el grupo y para ningun permiso que es 0 a otros"
   ]
  },
  {
   "cell_type": "code",
   "execution_count": null,
   "metadata": {},
   "outputs": [],
   "source": [
    "# c) Crea un archivo llamado \\usuario.prm\" y usando el metodo que gustes dale permisos de ejecucion, lectura y escritura al usuario, y solamente de ejecucion y lectura tanto al grupo como a los demas.\n",
    "touch usuario.prm \n",
    "chmod 755 usuario.prm\n",
    "# se le asinaran todos los permisos  que es 5 en sistema octal al usuario, de escritura y ejecucion es 5 para el grupo y otros"
   ]
  }
 ],
 "metadata": {
  "kernelspec": {
   "display_name": "Julia 0.6.0",
   "language": "julia",
   "name": "julia-0.6"
  },
  "language_info": {
   "file_extension": ".jl",
   "mimetype": "application/julia",
   "name": "julia",
   "version": "0.6.0"
  }
 },
 "nbformat": 4,
 "nbformat_minor": 2
}
