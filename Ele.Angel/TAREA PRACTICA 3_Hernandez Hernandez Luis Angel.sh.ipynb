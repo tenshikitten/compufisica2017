{
 "cells": [
  {
   "cell_type": "code",
   "execution_count": null,
   "metadata": {},
   "outputs": [],
   "source": [
    "# 1. Escribe los comandos necesarios para:\n",
    "# *a) Conectarse remotamente a la maquina 132.248.129.8.\n",
    "ssh UTSUKUSHII@.hp132.248.129.8.\n",
    "#ssh (Security Shell) Este comando permite abrir una sesión segura de manera remota en el equipo o servidor indicado. Para hacerlo hay que indicar el\n",
    "usuario que va a iniciar la sesión así como la ip o el nombre del servidor al cual se desea conectar."
   ]
  },
  {
   "cell_type": "code",
   "execution_count": null,
   "metadata": {},
   "outputs": [],
   "source": [
    "# *b) Crear un archivo llamado bitacora.conx que contenga un listado de las \u0013ultimas conexiones de los\n",
    "usuarios a la maquina.\n",
    "touch bitacora.conx\n",
    "cd bitacora.conx >last \n",
    "#last muestra las últimas conexiones de los usuarios al servidor."
   ]
  },
  {
   "cell_type": "code",
   "execution_count": null,
   "metadata": {},
   "outputs": [],
   "source": [
    "# *c) Copiar un archivo en la maquina remota al directorio (local) donde estes trabajando.\n",
    " scp origen/tareas /tareaspract3 hdez.hdez.l.angel.sh\n",
    "#funciona exactamente igual que el comando cp, incluso conserva sus opciones (-r, -i, -v), pero funciona de manera segura para copiar archivos entre dos equipos en una red. "
   ]
  },
  {
   "cell_type": "code",
   "execution_count": null,
   "metadata": {},
   "outputs": [],
   "source": [
    "# 2. Escribe los comandos necesarios para:\n",
    "# *a) Saber el \\ip\" de tu equipo (explica que signi\f",
    "ca cada n\u0013umero).\n",
    "ifconfig\n",
    "# la mascara de red (255.255.255.0), la puerta de enlace (o segmento) en la que nos encontramos (192.168.7.255) y la dirección ip que tenemos asignada dentro de la red (192.168.7.49)"
   ]
  },
  {
   "cell_type": "code",
   "execution_count": null,
   "metadata": {},
   "outputs": [],
   "source": [
    "# *b) Crear un archivo llamado red.conf que contenga el estado y las caracter\u0013\u0010sticas de tus dispositivos\n",
    "de red.\n",
    "touch red.conf\n",
    " red.conf < ifconfig\n",
    "# ifconfig detalla las características de nuestros dispositivos de red. "
   ]
  },
  {
   "cell_type": "code",
   "execution_count": null,
   "metadata": {},
   "outputs": [],
   "source": [
    "# 3. Escribe los comandos necesarios para:\n",
    "# *a) Mostrar un listado en formato sencillo de los procesos ejecut\u0013andose, cuyo nombre de proceso sea firefox\".\n",
    "ps –e >  firefox\n",
    "# Muestra un listado en formato sencillo de todos los procesos ejecutándose en el servidor."
   ]
  },
  {
   "cell_type": "code",
   "execution_count": null,
   "metadata": {},
   "outputs": [],
   "source": [
    "# *b) Matar ese proceso y al mismo tiempo reiniciarlo asign\u0013andole el mismo PID\n",
    "kill –15 PID\n",
    "#mata el proceso pero al mismo tiempo lo reinicia asignándole el mismo PID, generalmente se utiliza esta opción para\n",
    "procesos que necesitan estar siempre en ejecución."
   ]
  },
  {
   "cell_type": "code",
   "execution_count": null,
   "metadata": {},
   "outputs": [],
   "source": [
    "# 4. Escribe los comandos necesarios para:\n",
    "*a) Empaquetar todo tu directorio (llamado por ejemplo PRACTICA 3) en una archivo llamado PRACTICA 3 TuNombre.tar\n",
    " tar[-x] Practica3  PRACTICA 3 Hernandez Hernandez Luis Angel.tar\n",
    "# tar nos permite empaquetar una estructura de directorios, su función principal es almacenar el contenido de un directorio en forma recursiva dentro de un archivo\n",
    "#-x Extrae el contenido de un archivo .tar"
   ]
  },
  {
   "cell_type": "code",
   "execution_count": null,
   "metadata": {},
   "outputs": [],
   "source": [
    "# *b) Comprimir ese archivo usando un nivel de compresi\u0013on 9.\n",
    "gzip [-9] PRACTICA 3 Hernandez Hernandez Luis Angel.tar\n",
    "\n",
    "# gzip Permite realizar una compresión de archivos\n",
    "# La opción –9 indica el nivel de compresión que se quiera realizar, el nivel óptimo es el\n",
    "-9 ya que realiza la compresión más alta que puede tener el archivo afectado"
   ]
  }
 ],
 "metadata": {
  "kernelspec": {
   "display_name": "Julia 0.6.0",
   "language": "julia",
   "name": "julia-0.6"
  },
  "language_info": {
   "file_extension": ".jl",
   "mimetype": "application/julia",
   "name": "julia",
   "version": "0.6.0"
  }
 },
 "nbformat": 4,
 "nbformat_minor": 2
}
