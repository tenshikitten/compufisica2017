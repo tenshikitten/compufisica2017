{
 "cells": [
  {
   "cell_type": "code",
   "execution_count": null,
   "metadata": {},
   "outputs": [],
   "source": [
    "# A)  Crearemos una funcion para multiplicar una matriz por un vector "
   ]
  },
  {
   "cell_type": "code",
   "execution_count": 2,
   "metadata": {},
   "outputs": [
    {
     "data": {
      "text/plain": [
       "mat_x_vec (generic function with 1 method)"
      ]
     },
     "execution_count": 2,
     "metadata": {},
     "output_type": "execute_result"
    }
   ],
   "source": [
    "function mat_x_vec(A,v)\n",
    "    if size(A)[2] == length(v) # creamos una condicion con if ya que si el tamaño de la matriz A es igual a la extension del vector ...el vector resultante sera igual a la extension de del la matriz A \n",
    "        vector_resultante = zeros(size(A)[1])\n",
    "        for renglon in 1:size(A)[1] #creamos un ciclo for donde para cada renglon  en en tamaño de la matriz en el primer renglon la entrada sera igual menor que cero\n",
    "            entrada=0<\n",
    "            for columna in 1:size(A)[2] # se crea otro ciclo for donde para cada renglon  en en tamaño de la matriz en el segundo renglon ,la multiplicacion sera igual a la matriz en el que  el renglon y la columna seran multiplicadas por la columna del vector \n",
    "                multiplicacion=A[renglon,columna]*v[columna]\n",
    "                entrada+=multiplicacion\n",
    "            end\n",
    "            vector_resultante[renglon] = entrada #la entrada cambiara y sera igual a la multiplicacion y el renglon del vector resultante sera igual a la entrada y se termina el ciclo con end y muestra el resultado y termina con end \n",
    "        end\n",
    "        vector_resultante\n",
    "    end\n",
    "end"
   ]
  },
  {
   "cell_type": "code",
   "execution_count": 3,
   "metadata": {},
   "outputs": [
    {
     "data": {
      "text/plain": [
       "3-element Array{Tuple{Int64,Int64,Int64},1}:\n",
       " (8, 9, 17)\n",
       " (5, 6, 11)\n",
       " (8, 9, 10)"
      ]
     },
     "execution_count": 3,
     "metadata": {},
     "output_type": "execute_result"
    }
   ],
   "source": [
    "# Creamos la matriz \n",
    "A=[(8,9,17),(5,6,11),(8, 9,10)]"
   ]
  },
  {
   "cell_type": "code",
   "execution_count": 4,
   "metadata": {},
   "outputs": [
    {
     "data": {
      "text/plain": [
       "1-element Array{Tuple{Int64,Int64,Int64},1}:\n",
       " (4, 6, 7)"
      ]
     },
     "execution_count": 4,
     "metadata": {},
     "output_type": "execute_result"
    }
   ],
   "source": [
    "# creamos el vector \n",
    "v=[(4,6,7)]"
   ]
  },
  {
   "cell_type": "code",
   "execution_count": 6,
   "metadata": {},
   "outputs": [
    {
     "ename": "LoadError",
     "evalue": "\u001b[91msyntax: incomplete: premature end of input\u001b[39m",
     "output_type": "error",
     "traceback": [
      "\u001b[91msyntax: incomplete: premature end of input\u001b[39m",
      "",
      "Stacktrace:",
      " [1] \u001b[1minclude_string\u001b[22m\u001b[22m\u001b[1m(\u001b[22m\u001b[22m::String, ::String\u001b[1m)\u001b[22m\u001b[22m at \u001b[1m./loading.jl:515\u001b[22m\u001b[22m"
     ]
    }
   ],
   "source": [
    "#  realizamos el producto de las dos\n",
    "function mat_x_vec(A,v)"
   ]
  },
  {
   "cell_type": "code",
   "execution_count": null,
   "metadata": {},
   "outputs": [],
   "source": [
    "# Crearemos una funcion para multiplicar dos matrices"
   ]
  },
  {
   "cell_type": "code",
   "execution_count": 2,
   "metadata": {},
   "outputs": [
    {
     "data": {
      "text/plain": [
       "ProdMat (generic function with 1 method)"
      ]
     },
     "execution_count": 2,
     "metadata": {},
     "output_type": "execute_result"
    }
   ],
   "source": [
    "#Creamos una funcion para calcular el producto de dos matrices\n",
    "function ProdMat(a,b)\n",
    "    if (size(a)[2]==size(b)[2])\n",
    "        for i ∈ 1:size(a)[1]\n",
    "            k=1\n",
    "            while k<=size(a)[1]\n",
    "                p=0\n",
    "                for j ∈ 1:size(b)[1]\n",
    "                    A=a[i,j]*b[j,k]\n",
    "                    p+=A\n",
    "                    end\n",
    "                b[i,k]=p\n",
    "                k+=1\n",
    "                end\n",
    "        end\n",
    "         b\n",
    "    else\n",
    "        print(\"checa las dimenciones\")\n",
    "    end\n",
    "end\n",
    "# Comenzamos con un condicional if ya que si el tamaño de las dos matrices es igual con for porque para cada numero i en la extension de la matriz tendremos que k sera igual a 1\n",
    "# despues con un whileque nos dice que mientras k sea menor igual al tamaño de la primera matriz p sera igual a 0\n",
    "# con un for porque nos dice que por cada termino en el tamaño de la segunda matriz tendremos que A sera igual la multiplicacion de los terminos tendremos que p sera igual a p mas A y terminams con un end\n",
    "# tambienm que los terminos de la matriz seran igual a p y k sera igual a k mas 1 y terminamos con un end lo que se anexo y despues otro end\n",
    "# y por ultimo con un else para agregar que con print nos marque si debemos revisar las dimensiones y terminamos con un end"
   ]
  },
  {
   "cell_type": "code",
   "execution_count": 3,
   "metadata": {},
   "outputs": [
    {
     "data": {
      "text/plain": [
       "3×3 Array{Int64,2}:\n",
       " 1  5  6\n",
       " 7  6  1\n",
       " 3  8  9"
      ]
     },
     "execution_count": 3,
     "metadata": {},
     "output_type": "execute_result"
    }
   ],
   "source": [
    "# Creamos la matriz\n",
    "a=[1 5 6;7 6 1;3 8 9;]"
   ]
  },
  {
   "cell_type": "code",
   "execution_count": 4,
   "metadata": {},
   "outputs": [
    {
     "data": {
      "text/plain": [
       "3×3 Array{Int64,2}:\n",
       " 9  8  7\n",
       " 4  5  6\n",
       " 1  2  3"
      ]
     },
     "execution_count": 4,
     "metadata": {},
     "output_type": "execute_result"
    }
   ],
   "source": [
    "# Creamos la aegunda matriz\n",
    "b=[9 8 7;4 5 6;1 2 3]"
   ]
  },
  {
   "cell_type": "code",
   "execution_count": 5,
   "metadata": {},
   "outputs": [
    {
     "data": {
      "text/plain": [
       "3×3 Array{Int64,2}:\n",
       "   35    45    55\n",
       "  270   347   424\n",
       " 2274  2929  3584"
      ]
     },
     "execution_count": 5,
     "metadata": {},
     "output_type": "execute_result"
    }
   ],
   "source": [
    "# realizamos la operacion\n",
    "ProdMat(a,b)"
   ]
  }
 ],
 "metadata": {
  "kernelspec": {
   "display_name": "Julia 0.6.0",
   "language": "julia",
   "name": "julia-0.6"
  },
  "language_info": {
   "file_extension": ".jl",
   "mimetype": "application/julia",
   "name": "julia",
   "version": "0.6.0"
  }
 },
 "nbformat": 4,
 "nbformat_minor": 2
}
