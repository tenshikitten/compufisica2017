{
 "cells": [
  {
   "cell_type": "code",
   "execution_count": 46,
   "metadata": {},
   "outputs": [
    {
     "data": {
      "text/plain": [
       "prodcruz (generic function with 1 method)"
      ]
     },
     "execution_count": 46,
     "metadata": {},
     "output_type": "execute_result"
    }
   ],
   "source": [
    "# creamos una funcion de producto cruz de dos vectores en R3 \n",
    "function prodcruz(A,B)\n",
    "    if (size(A)[1]==size(B)[1]) # Empezamos con un if ya que si el tamaño de los vectores en R3 es igual; con un for que nos dice que para cada numero en el tamaño del vector A tenedremos que k sera igual a 1\n",
    "        for i ∈ 1:size(A)[1]\n",
    "            k=1\n",
    "        end     # despues resolvemos los determinantes de x despues de y y por ultimo de z y lo terminamos con un end\n",
    "        i= ((A[2,1] * B[3,1]) - (A[3,1] * B[2,1])) # x\n",
    "        j=-((A[3,1] * B[1,1]) - (A[1,1] * B[3,1])) # y\n",
    "        k= ((A[1,1] * B[2,1]) - (A[2,1] * B[1,1])) # z\n",
    "    end\n",
    "    c=[i,j,k] # despues c nos dara el valor del producto cruz y con print para que nos muestre el resultado y end para que termine \n",
    "    print(c)\n",
    " end"
   ]
  },
  {
   "cell_type": "code",
   "execution_count": 47,
   "metadata": {},
   "outputs": [
    {
     "data": {
      "text/plain": [
       "3-element Array{Int64,1}:\n",
       " 6\n",
       " 9\n",
       " 8"
      ]
     },
     "execution_count": 47,
     "metadata": {},
     "output_type": "execute_result"
    }
   ],
   "source": [
    "# creamos el primer vector en R3 \n",
    "A=[6,9,8]"
   ]
  },
  {
   "cell_type": "code",
   "execution_count": 48,
   "metadata": {},
   "outputs": [
    {
     "data": {
      "text/plain": [
       "3-element Array{Int64,1}:\n",
       " 5\n",
       " 7\n",
       " 4"
      ]
     },
     "execution_count": 48,
     "metadata": {},
     "output_type": "execute_result"
    }
   ],
   "source": [
    "# creamos el primer vector en R3 \n",
    "B=[5,7,4]"
   ]
  },
  {
   "cell_type": "code",
   "execution_count": 49,
   "metadata": {},
   "outputs": [
    {
     "name": "stdout",
     "output_type": "stream",
     "text": [
      "[-20, -16, -3]"
     ]
    }
   ],
   "source": [
    "# obtendremos el producto cruz\n",
    "prodcruz(A,B)"
   ]
  }
 ],
 "metadata": {
  "kernelspec": {
   "display_name": "Julia 0.6.0",
   "language": "julia",
   "name": "julia-0.6"
  },
  "language_info": {
   "file_extension": ".jl",
   "mimetype": "application/julia",
   "name": "julia",
   "version": "0.6.0"
  }
 },
 "nbformat": 4,
 "nbformat_minor": 2
}
