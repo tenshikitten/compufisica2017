{
 "cells": [
  {
   "cell_type": "code",
   "execution_count": null,
   "metadata": {},
   "outputs": [],
   "source": [
    "# A) calcular una recta de valores Y en términos de valores X en cierto rango de X,"
   ]
  },
  {
   "cell_type": "code",
   "execution_count": 14,
   "metadata": {},
   "outputs": [],
   "source": [
    "# primero crearemos un arreglo para x\n",
    "x=collect(0:1:70);"
   ]
  },
  {
   "cell_type": "code",
   "execution_count": 15,
   "metadata": {},
   "outputs": [
    {
     "data": {
      "text/plain": [
       "0.7853981633974483"
      ]
     },
     "execution_count": 15,
     "metadata": {},
     "output_type": "execute_result"
    }
   ],
   "source": [
    "# le asignaremos a θ el valor de π/4 que esta en radianes \n",
    "θ=π/4"
   ]
  },
  {
   "cell_type": "code",
   "execution_count": 16,
   "metadata": {},
   "outputs": [],
   "source": [
    "# Le asignamos a la pendiente el valor de la tangente de θ\n",
    "m=tan(θ);"
   ]
  },
  {
   "cell_type": "code",
   "execution_count": 17,
   "metadata": {},
   "outputs": [],
   "source": [
    "# Le asignaremos a b que es la ordenada la origen el valor de 10\n",
    "b=10;"
   ]
  },
  {
   "cell_type": "code",
   "execution_count": 18,
   "metadata": {},
   "outputs": [],
   "source": [
    "# Le asignaremos a y el arreglo de ceros de x \n",
    "y=zeros(x);"
   ]
  },
  {
   "cell_type": "code",
   "execution_count": 19,
   "metadata": {},
   "outputs": [],
   "source": [
    "for i ∈ eachindex(x)\n",
    "    y= m*x+b\n",
    "end\n",
    "# Realizamos un ciclo con for en  cual para cada i en el indice (x)\n",
    "# tendremos que y sera igual a la pendiente por el arreglo mas  la ordenada la origen y terminamos el ciclo con un end"
   ]
  },
  {
   "cell_type": "code",
   "execution_count": 20,
   "metadata": {},
   "outputs": [],
   "source": [
    "# utilizamos using Plots para poder gragicar\n",
    "using Plots"
   ]
  },
  {
   "cell_type": "code",
   "execution_count": 21,
   "metadata": {},
   "outputs": [
    {
     "data": {
      "text/plain": [
       "Plots.PyPlotBackend()"
      ]
     },
     "execution_count": 21,
     "metadata": {},
     "output_type": "execute_result"
    }
   ],
   "source": [
    "# lo usamos porque vamos a graficar\n",
    "pyplot()"
   ]
  },
  {
   "cell_type": "code",
   "execution_count": 22,
   "metadata": {},
   "outputs": [
    {
     "data": {
      "text/html": [
       "<img src=\"data:image/png;base64,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\" />"
      ]
     },
     "execution_count": 22,
     "metadata": {},
     "output_type": "execute_result"
    }
   ],
   "source": [
    "# usamos plot porque es como vamos graficar X,Y\n",
    "plot(x,y,w=2)\n",
    "title!(\"recta\")\n",
    "# usamos title! ya con este le asignaremos un nombre a la grafica"
   ]
  },
  {
   "cell_type": "code",
   "execution_count": 49,
   "metadata": {},
   "outputs": [],
   "source": [
    "# le asignamos a datos el valor de hcat que nos dara los datos de xy\n",
    "datos=hcat(x,y);"
   ]
  },
  {
   "cell_type": "code",
   "execution_count": 50,
   "metadata": {},
   "outputs": [],
   "source": [
    "# writedlm lo usamos para obtengamos los datos para graficar \n",
    "writedlm(\"grafica.csv\" ,datos, '|')"
   ]
  },
  {
   "cell_type": "code",
   "execution_count": 53,
   "metadata": {},
   "outputs": [
    {
     "name": "stdout",
     "output_type": "stream",
     "text": [
      "0|10\n",
      "1|11\n",
      "2|12\n",
      "3|13\n",
      "4|14\n",
      "5|15\n",
      "6|16\n",
      "7|17\n",
      "8|18\n",
      "9|19\n",
      "10|20\n",
      "11|21\n",
      "12|22\n",
      "13|23\n",
      "14|24\n",
      "15|25\n",
      "16|26\n",
      "17|26.999999999999996\n",
      "18|27.999999999999996\n",
      "19|28.999999999999996\n",
      "20|29.999999999999996\n",
      "21|30.999999999999996\n",
      "22|31.999999999999996\n",
      "23|33\n",
      "24|34\n",
      "25|35\n",
      "26|36\n",
      "27|37\n",
      "28|38\n",
      "29|39\n",
      "30|40\n",
      "31|41\n",
      "32|42\n",
      "33|42.99999999999999\n",
      "34|43.99999999999999\n",
      "35|44.99999999999999\n",
      "36|45.99999999999999\n",
      "37|46.99999999999999\n",
      "38|47.99999999999999\n",
      "39|48.99999999999999\n",
      "40|49.99999999999999\n",
      "41|50.99999999999999\n",
      "42|51.99999999999999\n",
      "43|52.99999999999999\n",
      "44|53.99999999999999\n",
      "45|54.99999999999999\n",
      "46|55.99999999999999\n",
      "47|56.99999999999999\n",
      "48|57.99999999999999\n",
      "49|58.99999999999999\n",
      "50|59.99999999999999\n",
      "51|60.99999999999999\n",
      "52|61.99999999999999\n",
      "53|62.99999999999999\n",
      "54|63.99999999999999\n",
      "55|65\n",
      "56|66\n",
      "57|67\n",
      "58|68\n",
      "59|69\n",
      "60|70\n",
      "61|71\n",
      "62|72\n",
      "63|73\n",
      "64|74\n",
      "65|74.99999999999999\n",
      "66|75.99999999999999\n",
      "67|76.99999999999999\n",
      "68|77.99999999999999\n",
      "69|78.99999999999999\n",
      "70|79.99999999999999\n"
     ]
    }
   ],
   "source": [
    "# usamos ;cat para que nos muestre los datos para graficar\n",
    ";cat grafica.csv"
   ]
  },
  {
   "cell_type": "code",
   "execution_count": null,
   "metadata": {},
   "outputs": [],
   "source": [
    "# B) Escribe un programa para calcular una parábola de valores Y en términos de valores X en cierto rango de X"
   ]
  },
  {
   "cell_type": "code",
   "execution_count": 3,
   "metadata": {},
   "outputs": [
    {
     "data": {
      "text/plain": [
       "Parab (generic function with 1 method)"
      ]
     },
     "execution_count": 3,
     "metadata": {},
     "output_type": "execute_result"
    }
   ],
   "source": [
    "function Parab(a,b,c,d,e,f) # iniciamos con los coeficientes a,b,c de la parabola con forma  de y=ax^2+bx+c,en cuanto a  d y f son valores iniciales y finales de un intevalo y la \"e\" se refiere al espacio entre cada número por el intervalo\n",
    "    Y = zeros(collect(d:e:f)) # Despues hacemos un arreglo de ceros de \"d\" hasta \"f\" y lo mismo para x\n",
    "    X = zeros(collect(d:e:f)) \n",
    "    for i ∈ eachindex(collect(d:e:f)) # Despues creamos un ciclo for que nos dice que por cada numero en el arreglo tendremos que x sera igual a el arreglo \n",
    "        X[i] = collect(d:e:f)[i] \n",
    "        for i ∈ eachindex(collect(d:e:f)) # creamos otro ciclo for\n",
    "            Y[i]=(a*(X[i])^2)+b*X[i]+c # se ocupara la regla e correespondencia de la parábola y=ax^2+bx+c\n",
    "        end\n",
    "        parabola = hcat(X,Y) # con hcat concatenamos los arreglos X Y despues de realizar las operaciones anteriores\n",
    "        writedlm(\"parabola.csv\",parabola,'|') # con writedlm hacemos que haga un archivo con los datos arrojados\n",
    "        end\n",
    "    print(X,Y) # se pide que imprima a X y Y y se terminara con un end el ciclo\n",
    "end"
   ]
  },
  {
   "cell_type": "code",
   "execution_count": 4,
   "metadata": {},
   "outputs": [
    {
     "name": "stdout",
     "output_type": "stream",
     "text": [
      "[-100, -99, -98, -97, -96, -95, -94, -93, -92, -91, -90, -89, -88, -87, -86, -85, -84, -83, -82, -81, -80, -79, -78, -77, -76, -75, -74, -73, -72, -71, -70, -69, -68, -67, -66, -65, -64, -63, -62, -61, -60, -59, -58, -57, -56, -55, -54, -53, -52, -51, -50, -49, -48, -47, -46, -45, -44, -43, -42, -41, -40, -39, -38, -37, -36, -35, -34, -33, -32, -31, -30, -29, -28, -27, -26, -25, -24, -23, -22, -21, -20, -19, -18, -17, -16, -15, -14, -13, -12, -11, -10, -9, -8, -7, -6, -5, -4, -3, -2, -1, 0, 1, 2, 3, 4, 5, 6, 7, 8, 9, 10, 11, 12, 13, 14, 15, 16, 17, 18, 19, 20, 21, 22, 23, 24, 25, 26, 27, 28, 29, 30, 31, 32, 33, 34, 35, 36, 37, 38, 39, 40, 41, 42, 43, 44, 45, 46, 47, 48, 49, 50, 51, 52, 53, 54, 55, 56, 57, 58, 59, 60, 61, 62, 63, 64, 65, 66, 67, 68, 69, 70, 71, 72, 73, 74, 75, 76, 77, 78, 79, 80, 81, 82, 83, 84, 85, 86, 87, 88, 89, 90, 91, 92, 93, 94, 95, 96, 97, 98, 99, 100][9801, 9604, 9409, 9216, 9025, 8836, 8649, 8464, 8281, 8100, 7921, 7744, 7569, 7396, 7225, 7056, 6889, 6724, 6561, 6400, 6241, 6084, 5929, 5776, 5625, 5476, 5329, 5184, 5041, 4900, 4761, 4624, 4489, 4356, 4225, 4096, 3969, 3844, 3721, 3600, 3481, 3364, 3249, 3136, 3025, 2916, 2809, 2704, 2601, 2500, 2401, 2304, 2209, 2116, 2025, 1936, 1849, 1764, 1681, 1600, 1521, 1444, 1369, 1296, 1225, 1156, 1089, 1024, 961, 900, 841, 784, 729, 676, 625, 576, 529, 484, 441, 400, 361, 324, 289, 256, 225, 196, 169, 144, 121, 100, 81, 64, 49, 36, 25, 16, 9, 4, 1, 0, 1, 4, 9, 16, 25, 36, 49, 64, 81, 100, 121, 144, 169, 196, 225, 256, 289, 324, 361, 400, 441, 484, 529, 576, 625, 676, 729, 784, 841, 900, 961, 1024, 1089, 1156, 1225, 1296, 1369, 1444, 1521, 1600, 1681, 1764, 1849, 1936, 2025, 2116, 2209, 2304, 2401, 2500, 2601, 2704, 2809, 2916, 3025, 3136, 3249, 3364, 3481, 3600, 3721, 3844, 3969, 4096, 4225, 4356, 4489, 4624, 4761, 4900, 5041, 5184, 5329, 5476, 5625, 5776, 5929, 6084, 6241, 6400, 6561, 6724, 6889, 7056, 7225, 7396, 7569, 7744, 7921, 8100, 8281, 8464, 8649, 8836, 9025, 9216, 9409, 9604, 9801, 10000, 10201]"
     ]
    }
   ],
   "source": [
    "# Se crea el arreglo de la parabola\n",
    "Parab(1,2,1,-100,1,100)"
   ]
  },
  {
   "cell_type": "code",
   "execution_count": 8,
   "metadata": {},
   "outputs": [],
   "source": [
    "# se crea el arreglo para X\n",
    "X= [-100,-99,-98,-97,-96,-95,-94,-93,-92,-91,-90,-89,-88,-87,-86,-85,-84,-83,-82,-81,-80,-79,-78,-77,-76,-75,-74,-73,-72,-71,-70,-69,-68,-67,-66,-65,-64,-63,-62,-61,-60,-59,-58,-57,-56,-55,-54,-53,-52,-51,-50,-49,-48,-47,-46,-45,-44,-43,-42,-41,-40,-39,-38,-37,-36,-35,-34,-33,-32,-31,-30,-29,-28,-27,-26,-25,-24,-23,-22,-21,-20,-19,-18,-17,-16,-15,-14,-13,-12,-11,-10,-9,-8,-7,-6,-5,-4,-3,-2,-1,0,1,2,3,4,5,6,7,8,9,10,11,12,13,14,15,16,17,18,19,20,21,22,23,24,25,26,27,28,29,30,31,32,33,34,35,36,37,38,39,40,41,42,43,44,45,46,47,48,49,50,51,52,53,54,55,56,57,58,59,60,61,62,63,64,65,66,67,68,69,70,71,72,73,74,75,76,77,78,79,80,81,82,83,84,85,86,87,88,89,90,91,92,93,94,95,96,97,98,99,100];"
   ]
  },
  {
   "cell_type": "code",
   "execution_count": 9,
   "metadata": {},
   "outputs": [],
   "source": [
    "# se crea el arreglo para Y\n",
    "Y= [9801,9604,9409,9216,9025,8836,8649,8464,8281,8100,7921,7744,7569,7396,7225,7056,6889,6724,6561,6400,6241,6084,5929,5776,5625,5476,5329,5184,5041,4900,4761,4624,4489,4356,4225,4096,3969,3844,3721,3600,3481,3364,3249,3136,3025,2916,2809,2704,2601,2500,2401,2304,2209,2116,2025,1936,1849,1764,1681,1600,1521,1444,1369,1296,1225,1156,1089,1024,961,900,841,784,729,676,625,576,529,484,441,400,361,324,289,256,225,196,169,144,121,100,81,64,49,36,25,16,9,4,1,0,1,4,9,16,25,36,49,64,81,100,121,144,169,196,225,256,289,324,361,400,441,484,529,576,625,676,729,784,841,900,961,1024,1089,1156,1225,1296,1369,1444,1521,1600,1681,1764,1849,1936,2025,2116,2209,2304,2401,2500,2601,2704,2809,2916,3025,3136,3249,3364,3481,3600,3721,3844,3969,4096,4225,4356,4489,4624,4761,4900,5041,5184,5329,5476,5625,5776,5929,6084,6241,6400,6561,6724,6889,7056,7225,7396,7569,7744,7921,8100,8281,8464,8649,8836,9025,9216,9409,9604,9801,10000,10201];"
   ]
  },
  {
   "cell_type": "code",
   "execution_count": 10,
   "metadata": {},
   "outputs": [],
   "source": [
    "# utilizamos using Plots para poder gragicar\n",
    "using Plots"
   ]
  },
  {
   "cell_type": "code",
   "execution_count": 11,
   "metadata": {},
   "outputs": [
    {
     "data": {
      "text/plain": [
       "Plots.PyPlotBackend()"
      ]
     },
     "execution_count": 11,
     "metadata": {},
     "output_type": "execute_result"
    }
   ],
   "source": [
    "# lo usamos porque vamos a graficar\n",
    "pyplot()"
   ]
  },
  {
   "cell_type": "code",
   "execution_count": 12,
   "metadata": {},
   "outputs": [
    {
     "data": {
      "text/html": [
       "<img src=\"data:image/png;base64,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\" />"
      ]
     },
     "execution_count": 12,
     "metadata": {},
     "output_type": "execute_result"
    }
   ],
   "source": [
    "# usamos plot porque es como vamos graficar X,Y\n",
    "plot(X,Y,w=2)\n",
    "title!(\"Parábola\")\n",
    "xaxis!(\"Eje X\")\n",
    "yaxis!(\"Eje Y\")\n",
    "# usamos title! ya con este le asignaremos un nombre a la grafica"
   ]
  }
 ],
 "metadata": {
  "kernelspec": {
   "display_name": "Julia 0.6.0",
   "language": "julia",
   "name": "julia-0.6"
  },
  "language_info": {
   "file_extension": ".jl",
   "mimetype": "application/julia",
   "name": "julia",
   "version": "0.6.0"
  }
 },
 "nbformat": 4,
 "nbformat_minor": 2
}
